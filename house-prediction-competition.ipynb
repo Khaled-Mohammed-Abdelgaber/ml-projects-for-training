{
 "cells": [
  {
   "cell_type": "markdown",
   "id": "d2b947b9",
   "metadata": {
    "papermill": {
     "duration": 0.010281,
     "end_time": "2022-08-10T15:30:48.412134",
     "exception": false,
     "start_time": "2022-08-10T15:30:48.401853",
     "status": "completed"
    },
    "tags": []
   },
   "source": [
    "# Sequence of my code is as follow:\n",
    "## A) Reading Data\n",
    "## B) Preprocessing:\n",
    "   #### 1) Check correlation between features and output\n",
    "   #### 2) Choosing the top correlated features\n",
    "   #### 3) Handling missing data\n",
    "   #### 4) Outliers\n",
    "   #### 5) Data normalization\n",
    "## C) Choosing regression technique"
   ]
  },
  {
   "cell_type": "markdown",
   "id": "dd1803df",
   "metadata": {
    "papermill": {
     "duration": 0.008046,
     "end_time": "2022-08-10T15:30:48.428982",
     "exception": false,
     "start_time": "2022-08-10T15:30:48.420936",
     "status": "completed"
    },
    "tags": []
   },
   "source": [
    "# importing required libraries"
   ]
  },
  {
   "cell_type": "code",
   "execution_count": 1,
   "id": "9cfe525a",
   "metadata": {
    "execution": {
     "iopub.execute_input": "2022-08-10T15:30:48.449736Z",
     "iopub.status.busy": "2022-08-10T15:30:48.448502Z",
     "iopub.status.idle": "2022-08-10T15:30:49.725272Z",
     "shell.execute_reply": "2022-08-10T15:30:49.724240Z"
    },
    "papermill": {
     "duration": 1.290308,
     "end_time": "2022-08-10T15:30:49.728118",
     "exception": false,
     "start_time": "2022-08-10T15:30:48.437810",
     "status": "completed"
    },
    "tags": []
   },
   "outputs": [],
   "source": [
    "import pandas as pd\n",
    "import numpy as np\n",
    "import seaborn as sns\n",
    "import matplotlib.pyplot as plt\n",
    "from sklearn.model_selection import train_test_split\n",
    "from sklearn.linear_model import LinearRegression\n",
    "from sklearn.preprocessing import StandardScaler\n",
    "from sklearn.preprocessing import OneHotEncoder\n",
    "\n",
    "%matplotlib  inline"
   ]
  },
  {
   "cell_type": "markdown",
   "id": "ec212080",
   "metadata": {
    "papermill": {
     "duration": 0.008021,
     "end_time": "2022-08-10T15:30:49.744802",
     "exception": false,
     "start_time": "2022-08-10T15:30:49.736781",
     "status": "completed"
    },
    "tags": []
   },
   "source": [
    "# reading data"
   ]
  },
  {
   "cell_type": "code",
   "execution_count": 2,
   "id": "72b513df",
   "metadata": {
    "execution": {
     "iopub.execute_input": "2022-08-10T15:30:49.763296Z",
     "iopub.status.busy": "2022-08-10T15:30:49.762880Z",
     "iopub.status.idle": "2022-08-10T15:30:49.837736Z",
     "shell.execute_reply": "2022-08-10T15:30:49.836293Z"
    },
    "papermill": {
     "duration": 0.087178,
     "end_time": "2022-08-10T15:30:49.840468",
     "exception": false,
     "start_time": "2022-08-10T15:30:49.753290",
     "status": "completed"
    },
    "tags": []
   },
   "outputs": [
    {
     "data": {
      "text/html": [
       "<div>\n",
       "<style scoped>\n",
       "    .dataframe tbody tr th:only-of-type {\n",
       "        vertical-align: middle;\n",
       "    }\n",
       "\n",
       "    .dataframe tbody tr th {\n",
       "        vertical-align: top;\n",
       "    }\n",
       "\n",
       "    .dataframe thead th {\n",
       "        text-align: right;\n",
       "    }\n",
       "</style>\n",
       "<table border=\"1\" class=\"dataframe\">\n",
       "  <thead>\n",
       "    <tr style=\"text-align: right;\">\n",
       "      <th></th>\n",
       "      <th>Id</th>\n",
       "      <th>MSSubClass</th>\n",
       "      <th>MSZoning</th>\n",
       "      <th>LotFrontage</th>\n",
       "      <th>LotArea</th>\n",
       "      <th>Street</th>\n",
       "      <th>Alley</th>\n",
       "      <th>LotShape</th>\n",
       "      <th>LandContour</th>\n",
       "      <th>Utilities</th>\n",
       "      <th>...</th>\n",
       "      <th>PoolArea</th>\n",
       "      <th>PoolQC</th>\n",
       "      <th>Fence</th>\n",
       "      <th>MiscFeature</th>\n",
       "      <th>MiscVal</th>\n",
       "      <th>MoSold</th>\n",
       "      <th>YrSold</th>\n",
       "      <th>SaleType</th>\n",
       "      <th>SaleCondition</th>\n",
       "      <th>SalePrice</th>\n",
       "    </tr>\n",
       "  </thead>\n",
       "  <tbody>\n",
       "    <tr>\n",
       "      <th>0</th>\n",
       "      <td>1</td>\n",
       "      <td>60</td>\n",
       "      <td>RL</td>\n",
       "      <td>65.0</td>\n",
       "      <td>8450</td>\n",
       "      <td>Pave</td>\n",
       "      <td>NaN</td>\n",
       "      <td>Reg</td>\n",
       "      <td>Lvl</td>\n",
       "      <td>AllPub</td>\n",
       "      <td>...</td>\n",
       "      <td>0</td>\n",
       "      <td>NaN</td>\n",
       "      <td>NaN</td>\n",
       "      <td>NaN</td>\n",
       "      <td>0</td>\n",
       "      <td>2</td>\n",
       "      <td>2008</td>\n",
       "      <td>WD</td>\n",
       "      <td>Normal</td>\n",
       "      <td>208500</td>\n",
       "    </tr>\n",
       "    <tr>\n",
       "      <th>1</th>\n",
       "      <td>2</td>\n",
       "      <td>20</td>\n",
       "      <td>RL</td>\n",
       "      <td>80.0</td>\n",
       "      <td>9600</td>\n",
       "      <td>Pave</td>\n",
       "      <td>NaN</td>\n",
       "      <td>Reg</td>\n",
       "      <td>Lvl</td>\n",
       "      <td>AllPub</td>\n",
       "      <td>...</td>\n",
       "      <td>0</td>\n",
       "      <td>NaN</td>\n",
       "      <td>NaN</td>\n",
       "      <td>NaN</td>\n",
       "      <td>0</td>\n",
       "      <td>5</td>\n",
       "      <td>2007</td>\n",
       "      <td>WD</td>\n",
       "      <td>Normal</td>\n",
       "      <td>181500</td>\n",
       "    </tr>\n",
       "    <tr>\n",
       "      <th>2</th>\n",
       "      <td>3</td>\n",
       "      <td>60</td>\n",
       "      <td>RL</td>\n",
       "      <td>68.0</td>\n",
       "      <td>11250</td>\n",
       "      <td>Pave</td>\n",
       "      <td>NaN</td>\n",
       "      <td>IR1</td>\n",
       "      <td>Lvl</td>\n",
       "      <td>AllPub</td>\n",
       "      <td>...</td>\n",
       "      <td>0</td>\n",
       "      <td>NaN</td>\n",
       "      <td>NaN</td>\n",
       "      <td>NaN</td>\n",
       "      <td>0</td>\n",
       "      <td>9</td>\n",
       "      <td>2008</td>\n",
       "      <td>WD</td>\n",
       "      <td>Normal</td>\n",
       "      <td>223500</td>\n",
       "    </tr>\n",
       "    <tr>\n",
       "      <th>3</th>\n",
       "      <td>4</td>\n",
       "      <td>70</td>\n",
       "      <td>RL</td>\n",
       "      <td>60.0</td>\n",
       "      <td>9550</td>\n",
       "      <td>Pave</td>\n",
       "      <td>NaN</td>\n",
       "      <td>IR1</td>\n",
       "      <td>Lvl</td>\n",
       "      <td>AllPub</td>\n",
       "      <td>...</td>\n",
       "      <td>0</td>\n",
       "      <td>NaN</td>\n",
       "      <td>NaN</td>\n",
       "      <td>NaN</td>\n",
       "      <td>0</td>\n",
       "      <td>2</td>\n",
       "      <td>2006</td>\n",
       "      <td>WD</td>\n",
       "      <td>Abnorml</td>\n",
       "      <td>140000</td>\n",
       "    </tr>\n",
       "    <tr>\n",
       "      <th>4</th>\n",
       "      <td>5</td>\n",
       "      <td>60</td>\n",
       "      <td>RL</td>\n",
       "      <td>84.0</td>\n",
       "      <td>14260</td>\n",
       "      <td>Pave</td>\n",
       "      <td>NaN</td>\n",
       "      <td>IR1</td>\n",
       "      <td>Lvl</td>\n",
       "      <td>AllPub</td>\n",
       "      <td>...</td>\n",
       "      <td>0</td>\n",
       "      <td>NaN</td>\n",
       "      <td>NaN</td>\n",
       "      <td>NaN</td>\n",
       "      <td>0</td>\n",
       "      <td>12</td>\n",
       "      <td>2008</td>\n",
       "      <td>WD</td>\n",
       "      <td>Normal</td>\n",
       "      <td>250000</td>\n",
       "    </tr>\n",
       "  </tbody>\n",
       "</table>\n",
       "<p>5 rows × 81 columns</p>\n",
       "</div>"
      ],
      "text/plain": [
       "   Id  MSSubClass MSZoning  LotFrontage  LotArea Street Alley LotShape  \\\n",
       "0   1          60       RL         65.0     8450   Pave   NaN      Reg   \n",
       "1   2          20       RL         80.0     9600   Pave   NaN      Reg   \n",
       "2   3          60       RL         68.0    11250   Pave   NaN      IR1   \n",
       "3   4          70       RL         60.0     9550   Pave   NaN      IR1   \n",
       "4   5          60       RL         84.0    14260   Pave   NaN      IR1   \n",
       "\n",
       "  LandContour Utilities  ... PoolArea PoolQC Fence MiscFeature MiscVal MoSold  \\\n",
       "0         Lvl    AllPub  ...        0    NaN   NaN         NaN       0      2   \n",
       "1         Lvl    AllPub  ...        0    NaN   NaN         NaN       0      5   \n",
       "2         Lvl    AllPub  ...        0    NaN   NaN         NaN       0      9   \n",
       "3         Lvl    AllPub  ...        0    NaN   NaN         NaN       0      2   \n",
       "4         Lvl    AllPub  ...        0    NaN   NaN         NaN       0     12   \n",
       "\n",
       "  YrSold  SaleType  SaleCondition  SalePrice  \n",
       "0   2008        WD         Normal     208500  \n",
       "1   2007        WD         Normal     181500  \n",
       "2   2008        WD         Normal     223500  \n",
       "3   2006        WD        Abnorml     140000  \n",
       "4   2008        WD         Normal     250000  \n",
       "\n",
       "[5 rows x 81 columns]"
      ]
     },
     "execution_count": 2,
     "metadata": {},
     "output_type": "execute_result"
    }
   ],
   "source": [
    "houses_data = pd.read_csv(\"../input/house-prices-advanced-regression-techniques/train.csv\")\n",
    "houses_data.head()"
   ]
  },
  {
   "cell_type": "code",
   "execution_count": 3,
   "id": "e3f64abb",
   "metadata": {
    "execution": {
     "iopub.execute_input": "2022-08-10T15:30:49.866925Z",
     "iopub.status.busy": "2022-08-10T15:30:49.865738Z",
     "iopub.status.idle": "2022-08-10T15:30:49.875740Z",
     "shell.execute_reply": "2022-08-10T15:30:49.874362Z"
    },
    "papermill": {
     "duration": 0.026183,
     "end_time": "2022-08-10T15:30:49.879397",
     "exception": false,
     "start_time": "2022-08-10T15:30:49.853214",
     "status": "completed"
    },
    "tags": []
   },
   "outputs": [
    {
     "data": {
      "text/plain": [
       "Index(['Id', 'MSSubClass', 'MSZoning', 'LotFrontage', 'LotArea', 'Street',\n",
       "       'Alley', 'LotShape', 'LandContour', 'Utilities', 'LotConfig',\n",
       "       'LandSlope', 'Neighborhood', 'Condition1', 'Condition2', 'BldgType',\n",
       "       'HouseStyle', 'OverallQual', 'OverallCond', 'YearBuilt', 'YearRemodAdd',\n",
       "       'RoofStyle', 'RoofMatl', 'Exterior1st', 'Exterior2nd', 'MasVnrType',\n",
       "       'MasVnrArea', 'ExterQual', 'ExterCond', 'Foundation', 'BsmtQual',\n",
       "       'BsmtCond', 'BsmtExposure', 'BsmtFinType1', 'BsmtFinSF1',\n",
       "       'BsmtFinType2', 'BsmtFinSF2', 'BsmtUnfSF', 'TotalBsmtSF', 'Heating',\n",
       "       'HeatingQC', 'CentralAir', 'Electrical', '1stFlrSF', '2ndFlrSF',\n",
       "       'LowQualFinSF', 'GrLivArea', 'BsmtFullBath', 'BsmtHalfBath', 'FullBath',\n",
       "       'HalfBath', 'BedroomAbvGr', 'KitchenAbvGr', 'KitchenQual',\n",
       "       'TotRmsAbvGrd', 'Functional', 'Fireplaces', 'FireplaceQu', 'GarageType',\n",
       "       'GarageYrBlt', 'GarageFinish', 'GarageCars', 'GarageArea', 'GarageQual',\n",
       "       'GarageCond', 'PavedDrive', 'WoodDeckSF', 'OpenPorchSF',\n",
       "       'EnclosedPorch', '3SsnPorch', 'ScreenPorch', 'PoolArea', 'PoolQC',\n",
       "       'Fence', 'MiscFeature', 'MiscVal', 'MoSold', 'YrSold', 'SaleType',\n",
       "       'SaleCondition', 'SalePrice'],\n",
       "      dtype='object')"
      ]
     },
     "execution_count": 3,
     "metadata": {},
     "output_type": "execute_result"
    }
   ],
   "source": [
    "houses_data.columns"
   ]
  },
  {
   "cell_type": "markdown",
   "id": "ebf29dcf",
   "metadata": {
    "papermill": {
     "duration": 0.011424,
     "end_time": "2022-08-10T15:30:49.902274",
     "exception": false,
     "start_time": "2022-08-10T15:30:49.890850",
     "status": "completed"
    },
    "tags": []
   },
   "source": [
    "# Correlation check and choosing the most correlated features\n"
   ]
  },
  {
   "cell_type": "code",
   "execution_count": 4,
   "id": "a7709f91",
   "metadata": {
    "execution": {
     "iopub.execute_input": "2022-08-10T15:30:49.923337Z",
     "iopub.status.busy": "2022-08-10T15:30:49.922637Z",
     "iopub.status.idle": "2022-08-10T15:30:50.718280Z",
     "shell.execute_reply": "2022-08-10T15:30:50.717228Z"
    },
    "papermill": {
     "duration": 0.808717,
     "end_time": "2022-08-10T15:30:50.721021",
     "exception": false,
     "start_time": "2022-08-10T15:30:49.912304",
     "status": "completed"
    },
    "tags": []
   },
   "outputs": [
    {
     "data": {
      "text/plain": [
       "<AxesSubplot:>"
      ]
     },
     "execution_count": 4,
     "metadata": {},
     "output_type": "execute_result"
    },
    {
     "data": {
      "image/png": "[encoded data removed]",
      "text/plain": [
       "<Figure size 720x504 with 2 Axes>"
      ]
     },
     "metadata": {
      "needs_background": "light"
     },
     "output_type": "display_data"
    }
   ],
   "source": [
    "corr = houses_data.corr()\n",
    "f, ax = plt.subplots(figsize=(10, 7))\n",
    "sns.heatmap(corr)"
   ]
  },
  {
   "cell_type": "code",
   "execution_count": 5,
   "id": "fb2ec955",
   "metadata": {
    "execution": {
     "iopub.execute_input": "2022-08-10T15:30:50.743882Z",
     "iopub.status.busy": "2022-08-10T15:30:50.743076Z",
     "iopub.status.idle": "2022-08-10T15:30:51.461987Z",
     "shell.execute_reply": "2022-08-10T15:30:51.461152Z"
    },
    "papermill": {
     "duration": 0.733383,
     "end_time": "2022-08-10T15:30:51.464608",
     "exception": false,
     "start_time": "2022-08-10T15:30:50.731225",
     "status": "completed"
    },
    "tags": []
   },
   "outputs": [
    {
     "data": {
      "text/plain": [
       "<AxesSubplot:>"
      ]
     },
     "execution_count": 5,
     "metadata": {},
     "output_type": "execute_result"
    },
    {
     "data": {
      "image/png": "[encoded data removed]",
      "text/plain": [
       "<Figure size 720x504 with 2 Axes>"
      ]
     },
     "metadata": {
      "needs_background": "light"
     },
     "output_type": "display_data"
    }
   ],
   "source": [
    "\"\"\"Correlation coefficient values below 0.3 are considered to be weak; 0.3-0.7 are moderate; >0.7 are strong\"\"\"\n",
    "#cols of features that most correlated to SalePrice\n",
    "cols = corr.nlargest(10,\"SalePrice\")[\"SalePrice\"].index\n",
    "#additional step\n",
    "f, ax = plt.subplots(figsize=(10, 7))\n",
    "sns.heatmap(houses_data[cols].corr(),annot = True)"
   ]
  },
  {
   "cell_type": "markdown",
   "id": "3e5a2a93",
   "metadata": {
    "papermill": {
     "duration": 0.010777,
     "end_time": "2022-08-10T15:30:51.486681",
     "exception": false,
     "start_time": "2022-08-10T15:30:51.475904",
     "status": "completed"
    },
    "tags": []
   },
   "source": [
    "# Missing Data"
   ]
  },
  {
   "cell_type": "code",
   "execution_count": 6,
   "id": "a4acc3d4",
   "metadata": {
    "execution": {
     "iopub.execute_input": "2022-08-10T15:30:51.511717Z",
     "iopub.status.busy": "2022-08-10T15:30:51.510996Z",
     "iopub.status.idle": "2022-08-10T15:30:51.527615Z",
     "shell.execute_reply": "2022-08-10T15:30:51.526717Z"
    },
    "papermill": {
     "duration": 0.031774,
     "end_time": "2022-08-10T15:30:51.529614",
     "exception": false,
     "start_time": "2022-08-10T15:30:51.497840",
     "status": "completed"
    },
    "tags": []
   },
   "outputs": [
    {
     "data": {
      "text/html": [
       "<div>\n",
       "<style scoped>\n",
       "    .dataframe tbody tr th:only-of-type {\n",
       "        vertical-align: middle;\n",
       "    }\n",
       "\n",
       "    .dataframe tbody tr th {\n",
       "        vertical-align: top;\n",
       "    }\n",
       "\n",
       "    .dataframe thead th {\n",
       "        text-align: right;\n",
       "    }\n",
       "</style>\n",
       "<table border=\"1\" class=\"dataframe\">\n",
       "  <thead>\n",
       "    <tr style=\"text-align: right;\">\n",
       "      <th></th>\n",
       "      <th>null_sum</th>\n",
       "    </tr>\n",
       "  </thead>\n",
       "  <tbody>\n",
       "    <tr>\n",
       "      <th>PoolQC</th>\n",
       "      <td>1453</td>\n",
       "    </tr>\n",
       "    <tr>\n",
       "      <th>MiscFeature</th>\n",
       "      <td>1406</td>\n",
       "    </tr>\n",
       "    <tr>\n",
       "      <th>Alley</th>\n",
       "      <td>1369</td>\n",
       "    </tr>\n",
       "    <tr>\n",
       "      <th>Fence</th>\n",
       "      <td>1179</td>\n",
       "    </tr>\n",
       "    <tr>\n",
       "      <th>FireplaceQu</th>\n",
       "      <td>690</td>\n",
       "    </tr>\n",
       "    <tr>\n",
       "      <th>LotFrontage</th>\n",
       "      <td>259</td>\n",
       "    </tr>\n",
       "    <tr>\n",
       "      <th>GarageYrBlt</th>\n",
       "      <td>81</td>\n",
       "    </tr>\n",
       "    <tr>\n",
       "      <th>GarageCond</th>\n",
       "      <td>81</td>\n",
       "    </tr>\n",
       "    <tr>\n",
       "      <th>GarageType</th>\n",
       "      <td>81</td>\n",
       "    </tr>\n",
       "    <tr>\n",
       "      <th>GarageFinish</th>\n",
       "      <td>81</td>\n",
       "    </tr>\n",
       "    <tr>\n",
       "      <th>GarageQual</th>\n",
       "      <td>81</td>\n",
       "    </tr>\n",
       "    <tr>\n",
       "      <th>BsmtExposure</th>\n",
       "      <td>38</td>\n",
       "    </tr>\n",
       "    <tr>\n",
       "      <th>BsmtFinType2</th>\n",
       "      <td>38</td>\n",
       "    </tr>\n",
       "    <tr>\n",
       "      <th>BsmtCond</th>\n",
       "      <td>37</td>\n",
       "    </tr>\n",
       "    <tr>\n",
       "      <th>BsmtQual</th>\n",
       "      <td>37</td>\n",
       "    </tr>\n",
       "    <tr>\n",
       "      <th>BsmtFinType1</th>\n",
       "      <td>37</td>\n",
       "    </tr>\n",
       "    <tr>\n",
       "      <th>MasVnrArea</th>\n",
       "      <td>8</td>\n",
       "    </tr>\n",
       "    <tr>\n",
       "      <th>MasVnrType</th>\n",
       "      <td>8</td>\n",
       "    </tr>\n",
       "    <tr>\n",
       "      <th>Electrical</th>\n",
       "      <td>1</td>\n",
       "    </tr>\n",
       "    <tr>\n",
       "      <th>MSSubClass</th>\n",
       "      <td>0</td>\n",
       "    </tr>\n",
       "  </tbody>\n",
       "</table>\n",
       "</div>"
      ],
      "text/plain": [
       "              null_sum\n",
       "PoolQC            1453\n",
       "MiscFeature       1406\n",
       "Alley             1369\n",
       "Fence             1179\n",
       "FireplaceQu        690\n",
       "LotFrontage        259\n",
       "GarageYrBlt         81\n",
       "GarageCond          81\n",
       "GarageType          81\n",
       "GarageFinish        81\n",
       "GarageQual          81\n",
       "BsmtExposure        38\n",
       "BsmtFinType2        38\n",
       "BsmtCond            37\n",
       "BsmtQual            37\n",
       "BsmtFinType1        37\n",
       "MasVnrArea           8\n",
       "MasVnrType           8\n",
       "Electrical           1\n",
       "MSSubClass           0"
      ]
     },
     "execution_count": 6,
     "metadata": {},
     "output_type": "execute_result"
    }
   ],
   "source": [
    "houses_data = houses_data.drop([\"Id\"],axis = 1) #drop id since it just counter\n",
    "isnull_df = pd.DataFrame(houses_data.isna().sum().sort_values(ascending = False),columns = [\"null_sum\"])\n",
    "isnull_df.head(20)"
   ]
  },
  {
   "cell_type": "code",
   "execution_count": 7,
   "id": "0a215fd0",
   "metadata": {
    "collapsed": true,
    "execution": {
     "iopub.execute_input": "2022-08-10T15:30:51.554710Z",
     "iopub.status.busy": "2022-08-10T15:30:51.553946Z",
     "iopub.status.idle": "2022-08-10T15:30:51.560825Z",
     "shell.execute_reply": "2022-08-10T15:30:51.560015Z"
    },
    "jupyter": {
     "outputs_hidden": true
    },
    "papermill": {
     "duration": 0.022099,
     "end_time": "2022-08-10T15:30:51.563084",
     "exception": false,
     "start_time": "2022-08-10T15:30:51.540985",
     "status": "completed"
    },
    "tags": []
   },
   "outputs": [],
   "source": [
    "#I will drop any columns has nulls\n",
    "drop_cols_nul = isnull_df.index[isnull_df[\"null_sum\"].values > 1]\n",
    "houses_data.drop(drop_cols_nul,axis = 1,inplace = True)"
   ]
  },
  {
   "cell_type": "code",
   "execution_count": 8,
   "id": "1ac0a775",
   "metadata": {
    "execution": {
     "iopub.execute_input": "2022-08-10T15:30:51.588281Z",
     "iopub.status.busy": "2022-08-10T15:30:51.587497Z",
     "iopub.status.idle": "2022-08-10T15:30:51.597596Z",
     "shell.execute_reply": "2022-08-10T15:30:51.596500Z"
    },
    "papermill": {
     "duration": 0.025347,
     "end_time": "2022-08-10T15:30:51.599954",
     "exception": false,
     "start_time": "2022-08-10T15:30:51.574607",
     "status": "completed"
    },
    "tags": []
   },
   "outputs": [],
   "source": [
    "houses_data.dropna(inplace = True)"
   ]
  },
  {
   "cell_type": "code",
   "execution_count": 9,
   "id": "12976bc0",
   "metadata": {
    "execution": {
     "iopub.execute_input": "2022-08-10T15:30:51.625050Z",
     "iopub.status.busy": "2022-08-10T15:30:51.624311Z",
     "iopub.status.idle": "2022-08-10T15:30:51.634863Z",
     "shell.execute_reply": "2022-08-10T15:30:51.634068Z"
    },
    "papermill": {
     "duration": 0.025496,
     "end_time": "2022-08-10T15:30:51.636959",
     "exception": false,
     "start_time": "2022-08-10T15:30:51.611463",
     "status": "completed"
    },
    "tags": []
   },
   "outputs": [
    {
     "data": {
      "text/plain": [
       "0"
      ]
     },
     "execution_count": 9,
     "metadata": {},
     "output_type": "execute_result"
    }
   ],
   "source": [
    "for i in cols.values:\n",
    "    if i  not in houses_data.columns.values:\n",
    "        print(\"problem\")\n",
    "houses_data.isna().sum().values.sum()\n"
   ]
  },
  {
   "cell_type": "markdown",
   "id": "b2b152c6",
   "metadata": {
    "papermill": {
     "duration": 0.011218,
     "end_time": "2022-08-10T15:30:51.659740",
     "exception": false,
     "start_time": "2022-08-10T15:30:51.648522",
     "status": "completed"
    },
    "tags": []
   },
   "source": [
    "# Outliers"
   ]
  },
  {
   "cell_type": "code",
   "execution_count": 10,
   "id": "8f45dc91",
   "metadata": {
    "execution": {
     "iopub.execute_input": "2022-08-10T15:30:51.684943Z",
     "iopub.status.busy": "2022-08-10T15:30:51.684221Z",
     "iopub.status.idle": "2022-08-10T15:30:51.874678Z",
     "shell.execute_reply": "2022-08-10T15:30:51.873190Z"
    },
    "papermill": {
     "duration": 0.206146,
     "end_time": "2022-08-10T15:30:51.877378",
     "exception": false,
     "start_time": "2022-08-10T15:30:51.671232",
     "status": "completed"
    },
    "tags": []
   },
   "outputs": [
    {
     "name": "stderr",
     "output_type": "stream",
     "text": [
      "/opt/conda/lib/python3.7/site-packages/seaborn/_decorators.py:43: FutureWarning: Pass the following variable as a keyword arg: x. From version 0.12, the only valid positional argument will be `data`, and passing other arguments without an explicit keyword will result in an error or misinterpretation.\n",
      "  FutureWarning\n"
     ]
    },
    {
     "data": {
      "text/plain": [
       "<AxesSubplot:xlabel='SalePrice'>"
      ]
     },
     "execution_count": 10,
     "metadata": {},
     "output_type": "execute_result"
    },
    {
     "data": {
      "image/png": "[encoded data removed]",
      "text/plain": [
       "<Figure size 432x288 with 1 Axes>"
      ]
     },
     "metadata": {
      "needs_background": "light"
     },
     "output_type": "display_data"
    }
   ],
   "source": [
    "sns.boxplot(houses_data[\"SalePrice\"])"
   ]
  },
  {
   "cell_type": "code",
   "execution_count": 11,
   "id": "40e35d4b",
   "metadata": {
    "execution": {
     "iopub.execute_input": "2022-08-10T15:30:51.912219Z",
     "iopub.status.busy": "2022-08-10T15:30:51.911644Z",
     "iopub.status.idle": "2022-08-10T15:30:51.942061Z",
     "shell.execute_reply": "2022-08-10T15:30:51.940638Z"
    },
    "papermill": {
     "duration": 0.053546,
     "end_time": "2022-08-10T15:30:51.946160",
     "exception": false,
     "start_time": "2022-08-10T15:30:51.892614",
     "status": "completed"
    },
    "tags": []
   },
   "outputs": [
    {
     "name": "stdout",
     "output_type": "stream",
     "text": [
      "SalePrice\n",
      "upper (array([  11,   53,   58,  112,  151,  161,  178,  185,  224,  231,  278,\n",
      "        309,  313,  320,  321,  336,  349,  378,  389,  440,  473,  477,\n",
      "        481,  496,  515,  527,  585,  591,  608,  642,  644,  654,  661,\n",
      "        664,  678,  688,  691,  702,  718,  769,  774,  798,  803,  825,\n",
      "        877,  898,  987,  990, 1046, 1142, 1169, 1181, 1182, 1228, 1243,\n",
      "       1267, 1268, 1353, 1373, 1387, 1436]),)\n",
      "lower =  (array([], dtype=int64),)\n",
      "OverallQual\n",
      "upper (array([  58,  185,  224,  389,  440,  515,  523,  583,  591,  691,  825,\n",
      "        994, 1169, 1182, 1243, 1298, 1373, 1441]),)\n",
      "lower =  (array([ 375,  533,  636,  916, 1100]),)\n",
      "GrLivArea\n",
      "upper (array([  58,  118,  185,  197,  231,  304,  324,  496,  523,  583,  608,\n",
      "        635,  691,  769,  798,  803,  961, 1024, 1031, 1046, 1142, 1169,\n",
      "       1173, 1175, 1182, 1268, 1298, 1312, 1328, 1353, 1385]),)\n",
      "lower =  (array([], dtype=int64),)\n",
      "GarageCars\n",
      "upper (array([ 420,  747, 1190, 1340, 1350]),)\n",
      "lower =  (array([], dtype=int64),)\n",
      "GarageArea\n",
      "upper (array([ 178,  224,  270,  317,  408,  581,  664,  718,  803,  825, 1061,\n",
      "       1087, 1142, 1184, 1190, 1228, 1241, 1268, 1298, 1350, 1416]),)\n",
      "lower =  (array([], dtype=int64),)\n",
      "TotalBsmtSF\n",
      "upper (array([  70,  178,  224,  278,  313,  332,  440,  477,  496,  523,  654,\n",
      "        664,  691,  825,  888,  898, 1044, 1182, 1205, 1223, 1243, 1250,\n",
      "       1298, 1373]),)\n",
      "lower =  (array([  17,   39,   90,  102,  156,  182,  259,  342,  362,  371,  392,\n",
      "        520,  532,  533,  553,  646,  705,  736,  749,  778,  868,  894,\n",
      "        897,  984, 1000, 1011, 1035, 1045, 1048, 1049, 1090, 1179, 1216,\n",
      "       1218, 1232, 1321, 1411]),)\n",
      "1stFlrSF\n",
      "upper (array([  66,   70,  113,  175,  178,  224,  440,  496,  523,  529,  691,\n",
      "        888,  898, 1024, 1044, 1182, 1205, 1298, 1346, 1373]),)\n",
      "lower =  (array([], dtype=int64),)\n",
      "FullBath\n",
      "upper (array([], dtype=int64),)\n",
      "lower =  (array([], dtype=int64),)\n",
      "TotRmsAbvGrd\n",
      "upper (array([  11,   58,  112,  118,  144,  161,  185,  190,  261,  304,  316,\n",
      "        321,  324,  328,  330,  349,  403,  417,  440,  447,  488,  496,\n",
      "        505,  523,  527,  566,  570,  591,  608,  619,  635,  691,  702,\n",
      "        745,  769,  778,  798,  803,  809,  843,  848,  875,  877,  883,\n",
      "        897,  898,  910,  926,  939,  961, 1024, 1030, 1031, 1032, 1043,\n",
      "       1046, 1058, 1062, 1068, 1142, 1169, 1173, 1182, 1230, 1267, 1268,\n",
      "       1275, 1284, 1292, 1298, 1313, 1350, 1385, 1386, 1415, 1439, 1441]),)\n",
      "lower =  (array([533]),)\n",
      "YearBuilt\n",
      "upper (array([], dtype=int64),)\n",
      "lower =  (array([ 106,  304,  630,  747,  991, 1132, 1137, 1349, 1415]),)\n"
     ]
    }
   ],
   "source": [
    "up_lst  = []\n",
    "low_lst = []\n",
    "for i in cols:\n",
    "    print(i)\n",
    "    Q1 = np.percentile(houses_data[i], 25,interpolation = 'midpoint')\n",
    "    Q3 = np.percentile(houses_data[i], 75,interpolation = 'midpoint')\n",
    "    IQR = Q3 - Q1\n",
    "    # Upper bound\n",
    "    upper = np.where(houses_data[i] >= (Q3+1.5*IQR))\n",
    "    print(\"upper\",upper)\n",
    "    # Lower bound\n",
    "    lower = np.where(houses_data[i] <= (Q1-1.5*IQR))\n",
    "    print(\"lower = \",lower)\n",
    "    ''' Removing the Outliers '''\n",
    "    for j in range(len(upper[0])):\n",
    "        if not (upper[0][j] in up_lst):\n",
    "            up_lst.append(upper[0][j])\n",
    "    for k in range(len( lower[0])):\n",
    "        if not (lower[0][k] in low_lst):\n",
    "            low_lst.append(lower[0][k])\n"
   ]
  },
  {
   "cell_type": "code",
   "execution_count": 12,
   "id": "5682012b",
   "metadata": {
    "execution": {
     "iopub.execute_input": "2022-08-10T15:30:51.975202Z",
     "iopub.status.busy": "2022-08-10T15:30:51.974153Z",
     "iopub.status.idle": "2022-08-10T15:30:51.981823Z",
     "shell.execute_reply": "2022-08-10T15:30:51.980194Z"
    },
    "papermill": {
     "duration": 0.024614,
     "end_time": "2022-08-10T15:30:51.984828",
     "exception": false,
     "start_time": "2022-08-10T15:30:51.960214",
     "status": "completed"
    },
    "tags": []
   },
   "outputs": [
    {
     "name": "stdout",
     "output_type": "stream",
     "text": [
      "up arr (144,)\n",
      "low arr (50,)\n",
      "out_lier_rows (194,)\n"
     ]
    }
   ],
   "source": [
    "up_arr = np.array(up_lst)\n",
    "low_arr = np.array(low_lst)\n",
    "print(\"up arr {}\".format(up_arr.shape))\n",
    "print(\"low arr {}\".format(low_arr.shape))\n",
    "out_lier_rows = np.append(low_arr,up_arr)\n",
    "print(\"out_lier_rows {}\".format(out_lier_rows.shape))\n",
    "out_lier_rows = np.unique(out_lier_rows)"
   ]
  },
  {
   "cell_type": "code",
   "execution_count": 13,
   "id": "1c6796a4",
   "metadata": {
    "execution": {
     "iopub.execute_input": "2022-08-10T15:30:52.014191Z",
     "iopub.status.busy": "2022-08-10T15:30:52.013221Z",
     "iopub.status.idle": "2022-08-10T15:30:52.020370Z",
     "shell.execute_reply": "2022-08-10T15:30:52.019158Z"
    },
    "papermill": {
     "duration": 0.024222,
     "end_time": "2022-08-10T15:30:52.022884",
     "exception": false,
     "start_time": "2022-08-10T15:30:51.998662",
     "status": "completed"
    },
    "tags": []
   },
   "outputs": [
    {
     "data": {
      "text/plain": [
       "(189,)"
      ]
     },
     "execution_count": 13,
     "metadata": {},
     "output_type": "execute_result"
    }
   ],
   "source": [
    "out_lier_rows.shape"
   ]
  },
  {
   "cell_type": "code",
   "execution_count": 14,
   "id": "30005d27",
   "metadata": {
    "execution": {
     "iopub.execute_input": "2022-08-10T15:30:52.049182Z",
     "iopub.status.busy": "2022-08-10T15:30:52.048730Z",
     "iopub.status.idle": "2022-08-10T15:30:52.062193Z",
     "shell.execute_reply": "2022-08-10T15:30:52.061364Z"
    },
    "papermill": {
     "duration": 0.029046,
     "end_time": "2022-08-10T15:30:52.064242",
     "exception": false,
     "start_time": "2022-08-10T15:30:52.035196",
     "status": "completed"
    },
    "tags": []
   },
   "outputs": [
    {
     "data": {
      "text/html": [
       "<div>\n",
       "<style scoped>\n",
       "    .dataframe tbody tr th:only-of-type {\n",
       "        vertical-align: middle;\n",
       "    }\n",
       "\n",
       "    .dataframe tbody tr th {\n",
       "        vertical-align: top;\n",
       "    }\n",
       "\n",
       "    .dataframe thead th {\n",
       "        text-align: right;\n",
       "    }\n",
       "</style>\n",
       "<table border=\"1\" class=\"dataframe\">\n",
       "  <thead>\n",
       "    <tr style=\"text-align: right;\">\n",
       "      <th></th>\n",
       "      <th>SalePrice</th>\n",
       "      <th>OverallQual</th>\n",
       "      <th>GrLivArea</th>\n",
       "      <th>GarageCars</th>\n",
       "      <th>GarageArea</th>\n",
       "      <th>TotalBsmtSF</th>\n",
       "      <th>1stFlrSF</th>\n",
       "      <th>FullBath</th>\n",
       "      <th>TotRmsAbvGrd</th>\n",
       "      <th>YearBuilt</th>\n",
       "    </tr>\n",
       "  </thead>\n",
       "  <tbody>\n",
       "    <tr>\n",
       "      <th>0</th>\n",
       "      <td>208500</td>\n",
       "      <td>7</td>\n",
       "      <td>1710</td>\n",
       "      <td>2</td>\n",
       "      <td>548</td>\n",
       "      <td>856</td>\n",
       "      <td>856</td>\n",
       "      <td>2</td>\n",
       "      <td>8</td>\n",
       "      <td>2003</td>\n",
       "    </tr>\n",
       "    <tr>\n",
       "      <th>1</th>\n",
       "      <td>181500</td>\n",
       "      <td>6</td>\n",
       "      <td>1262</td>\n",
       "      <td>2</td>\n",
       "      <td>460</td>\n",
       "      <td>1262</td>\n",
       "      <td>1262</td>\n",
       "      <td>2</td>\n",
       "      <td>6</td>\n",
       "      <td>1976</td>\n",
       "    </tr>\n",
       "    <tr>\n",
       "      <th>2</th>\n",
       "      <td>223500</td>\n",
       "      <td>7</td>\n",
       "      <td>1786</td>\n",
       "      <td>2</td>\n",
       "      <td>608</td>\n",
       "      <td>920</td>\n",
       "      <td>920</td>\n",
       "      <td>2</td>\n",
       "      <td>6</td>\n",
       "      <td>2001</td>\n",
       "    </tr>\n",
       "    <tr>\n",
       "      <th>3</th>\n",
       "      <td>140000</td>\n",
       "      <td>7</td>\n",
       "      <td>1717</td>\n",
       "      <td>3</td>\n",
       "      <td>642</td>\n",
       "      <td>756</td>\n",
       "      <td>961</td>\n",
       "      <td>1</td>\n",
       "      <td>7</td>\n",
       "      <td>1915</td>\n",
       "    </tr>\n",
       "    <tr>\n",
       "      <th>4</th>\n",
       "      <td>250000</td>\n",
       "      <td>8</td>\n",
       "      <td>2198</td>\n",
       "      <td>3</td>\n",
       "      <td>836</td>\n",
       "      <td>1145</td>\n",
       "      <td>1145</td>\n",
       "      <td>2</td>\n",
       "      <td>9</td>\n",
       "      <td>2000</td>\n",
       "    </tr>\n",
       "  </tbody>\n",
       "</table>\n",
       "</div>"
      ],
      "text/plain": [
       "   SalePrice  OverallQual  GrLivArea  GarageCars  GarageArea  TotalBsmtSF  \\\n",
       "0     208500            7       1710           2         548          856   \n",
       "1     181500            6       1262           2         460         1262   \n",
       "2     223500            7       1786           2         608          920   \n",
       "3     140000            7       1717           3         642          756   \n",
       "4     250000            8       2198           3         836         1145   \n",
       "\n",
       "   1stFlrSF  FullBath  TotRmsAbvGrd  YearBuilt  \n",
       "0       856         2             8       2003  \n",
       "1      1262         2             6       1976  \n",
       "2       920         2             6       2001  \n",
       "3       961         1             7       1915  \n",
       "4      1145         2             9       2000  "
      ]
     },
     "execution_count": 14,
     "metadata": {},
     "output_type": "execute_result"
    }
   ],
   "source": [
    "out_lier_rows = list(out_lier_rows)\n",
    "training_data = houses_data[cols]\n",
    "training_data.head()"
   ]
  },
  {
   "cell_type": "code",
   "execution_count": 15,
   "id": "00222d6e",
   "metadata": {
    "execution": {
     "iopub.execute_input": "2022-08-10T15:30:52.090925Z",
     "iopub.status.busy": "2022-08-10T15:30:52.090516Z",
     "iopub.status.idle": "2022-08-10T15:30:52.099853Z",
     "shell.execute_reply": "2022-08-10T15:30:52.099056Z"
    },
    "papermill": {
     "duration": 0.025189,
     "end_time": "2022-08-10T15:30:52.101962",
     "exception": false,
     "start_time": "2022-08-10T15:30:52.076773",
     "status": "completed"
    },
    "tags": []
   },
   "outputs": [
    {
     "data": {
      "text/plain": [
       "(1270, 10)"
      ]
     },
     "execution_count": 15,
     "metadata": {},
     "output_type": "execute_result"
    }
   ],
   "source": [
    "train_data = training_data.drop(out_lier_rows,axis = 0)\n",
    "\n",
    "train_data.shape"
   ]
  },
  {
   "cell_type": "code",
   "execution_count": 16,
   "id": "45f268b1",
   "metadata": {
    "execution": {
     "iopub.execute_input": "2022-08-10T15:30:52.129243Z",
     "iopub.status.busy": "2022-08-10T15:30:52.128784Z",
     "iopub.status.idle": "2022-08-10T15:30:52.141416Z",
     "shell.execute_reply": "2022-08-10T15:30:52.140626Z"
    },
    "papermill": {
     "duration": 0.028595,
     "end_time": "2022-08-10T15:30:52.143445",
     "exception": false,
     "start_time": "2022-08-10T15:30:52.114850",
     "status": "completed"
    },
    "tags": []
   },
   "outputs": [
    {
     "data": {
      "text/html": [
       "<div>\n",
       "<style scoped>\n",
       "    .dataframe tbody tr th:only-of-type {\n",
       "        vertical-align: middle;\n",
       "    }\n",
       "\n",
       "    .dataframe tbody tr th {\n",
       "        vertical-align: top;\n",
       "    }\n",
       "\n",
       "    .dataframe thead th {\n",
       "        text-align: right;\n",
       "    }\n",
       "</style>\n",
       "<table border=\"1\" class=\"dataframe\">\n",
       "  <thead>\n",
       "    <tr style=\"text-align: right;\">\n",
       "      <th></th>\n",
       "      <th>SalePrice</th>\n",
       "      <th>OverallQual</th>\n",
       "      <th>GrLivArea</th>\n",
       "      <th>GarageCars</th>\n",
       "      <th>GarageArea</th>\n",
       "      <th>TotalBsmtSF</th>\n",
       "      <th>1stFlrSF</th>\n",
       "      <th>FullBath</th>\n",
       "      <th>TotRmsAbvGrd</th>\n",
       "      <th>YearBuilt</th>\n",
       "    </tr>\n",
       "  </thead>\n",
       "  <tbody>\n",
       "    <tr>\n",
       "      <th>0</th>\n",
       "      <td>208500</td>\n",
       "      <td>7</td>\n",
       "      <td>1710</td>\n",
       "      <td>2</td>\n",
       "      <td>548</td>\n",
       "      <td>856</td>\n",
       "      <td>856</td>\n",
       "      <td>2</td>\n",
       "      <td>8</td>\n",
       "      <td>2003</td>\n",
       "    </tr>\n",
       "    <tr>\n",
       "      <th>1</th>\n",
       "      <td>181500</td>\n",
       "      <td>6</td>\n",
       "      <td>1262</td>\n",
       "      <td>2</td>\n",
       "      <td>460</td>\n",
       "      <td>1262</td>\n",
       "      <td>1262</td>\n",
       "      <td>2</td>\n",
       "      <td>6</td>\n",
       "      <td>1976</td>\n",
       "    </tr>\n",
       "    <tr>\n",
       "      <th>2</th>\n",
       "      <td>223500</td>\n",
       "      <td>7</td>\n",
       "      <td>1786</td>\n",
       "      <td>2</td>\n",
       "      <td>608</td>\n",
       "      <td>920</td>\n",
       "      <td>920</td>\n",
       "      <td>2</td>\n",
       "      <td>6</td>\n",
       "      <td>2001</td>\n",
       "    </tr>\n",
       "    <tr>\n",
       "      <th>3</th>\n",
       "      <td>140000</td>\n",
       "      <td>7</td>\n",
       "      <td>1717</td>\n",
       "      <td>3</td>\n",
       "      <td>642</td>\n",
       "      <td>756</td>\n",
       "      <td>961</td>\n",
       "      <td>1</td>\n",
       "      <td>7</td>\n",
       "      <td>1915</td>\n",
       "    </tr>\n",
       "    <tr>\n",
       "      <th>4</th>\n",
       "      <td>250000</td>\n",
       "      <td>8</td>\n",
       "      <td>2198</td>\n",
       "      <td>3</td>\n",
       "      <td>836</td>\n",
       "      <td>1145</td>\n",
       "      <td>1145</td>\n",
       "      <td>2</td>\n",
       "      <td>9</td>\n",
       "      <td>2000</td>\n",
       "    </tr>\n",
       "  </tbody>\n",
       "</table>\n",
       "</div>"
      ],
      "text/plain": [
       "   SalePrice  OverallQual  GrLivArea  GarageCars  GarageArea  TotalBsmtSF  \\\n",
       "0     208500            7       1710           2         548          856   \n",
       "1     181500            6       1262           2         460         1262   \n",
       "2     223500            7       1786           2         608          920   \n",
       "3     140000            7       1717           3         642          756   \n",
       "4     250000            8       2198           3         836         1145   \n",
       "\n",
       "   1stFlrSF  FullBath  TotRmsAbvGrd  YearBuilt  \n",
       "0       856         2             8       2003  \n",
       "1      1262         2             6       1976  \n",
       "2       920         2             6       2001  \n",
       "3       961         1             7       1915  \n",
       "4      1145         2             9       2000  "
      ]
     },
     "execution_count": 16,
     "metadata": {},
     "output_type": "execute_result"
    }
   ],
   "source": [
    "train_data.head()"
   ]
  },
  {
   "cell_type": "code",
   "execution_count": 17,
   "id": "5bd0eb09",
   "metadata": {
    "execution": {
     "iopub.execute_input": "2022-08-10T15:30:52.171547Z",
     "iopub.status.busy": "2022-08-10T15:30:52.170423Z",
     "iopub.status.idle": "2022-08-10T15:30:52.349813Z",
     "shell.execute_reply": "2022-08-10T15:30:52.348837Z"
    },
    "papermill": {
     "duration": 0.195819,
     "end_time": "2022-08-10T15:30:52.352264",
     "exception": false,
     "start_time": "2022-08-10T15:30:52.156445",
     "status": "completed"
    },
    "tags": []
   },
   "outputs": [
    {
     "name": "stderr",
     "output_type": "stream",
     "text": [
      "/opt/conda/lib/python3.7/site-packages/seaborn/_decorators.py:43: FutureWarning: Pass the following variable as a keyword arg: x. From version 0.12, the only valid positional argument will be `data`, and passing other arguments without an explicit keyword will result in an error or misinterpretation.\n",
      "  FutureWarning\n"
     ]
    },
    {
     "data": {
      "text/plain": [
       "<AxesSubplot:xlabel='SalePrice'>"
      ]
     },
     "execution_count": 17,
     "metadata": {},
     "output_type": "execute_result"
    },
    {
     "data": {
      "image/png": "[encoded data removed]",
      "text/plain": [
       "<Figure size 432x288 with 1 Axes>"
      ]
     },
     "metadata": {
      "needs_background": "light"
     },
     "output_type": "display_data"
    }
   ],
   "source": [
    "sns.boxplot(houses_data[\"SalePrice\"])"
   ]
  },
  {
   "cell_type": "code",
   "execution_count": 18,
   "id": "a7cfebc3",
   "metadata": {
    "execution": {
     "iopub.execute_input": "2022-08-10T15:30:52.381622Z",
     "iopub.status.busy": "2022-08-10T15:30:52.380686Z",
     "iopub.status.idle": "2022-08-10T15:30:52.495645Z",
     "shell.execute_reply": "2022-08-10T15:30:52.494418Z"
    },
    "papermill": {
     "duration": 0.13216,
     "end_time": "2022-08-10T15:30:52.498243",
     "exception": false,
     "start_time": "2022-08-10T15:30:52.366083",
     "status": "completed"
    },
    "tags": []
   },
   "outputs": [
    {
     "name": "stderr",
     "output_type": "stream",
     "text": [
      "/opt/conda/lib/python3.7/site-packages/seaborn/_decorators.py:43: FutureWarning: Pass the following variable as a keyword arg: x. From version 0.12, the only valid positional argument will be `data`, and passing other arguments without an explicit keyword will result in an error or misinterpretation.\n",
      "  FutureWarning\n"
     ]
    },
    {
     "data": {
      "text/plain": [
       "<AxesSubplot:xlabel='SalePrice'>"
      ]
     },
     "execution_count": 18,
     "metadata": {},
     "output_type": "execute_result"
    },
    {
     "data": {
      "image/png": "[encoded data removed]",
      "text/plain": [
       "<Figure size 432x288 with 1 Axes>"
      ]
     },
     "metadata": {
      "needs_background": "light"
     },
     "output_type": "display_data"
    }
   ],
   "source": [
    "sns.boxplot(train_data[\"SalePrice\"])"
   ]
  },
  {
   "cell_type": "code",
   "execution_count": 19,
   "id": "9124b2be",
   "metadata": {
    "execution": {
     "iopub.execute_input": "2022-08-10T15:30:52.527919Z",
     "iopub.status.busy": "2022-08-10T15:30:52.526640Z",
     "iopub.status.idle": "2022-08-10T15:30:52.755642Z",
     "shell.execute_reply": "2022-08-10T15:30:52.754429Z"
    },
    "papermill": {
     "duration": 0.246584,
     "end_time": "2022-08-10T15:30:52.758325",
     "exception": false,
     "start_time": "2022-08-10T15:30:52.511741",
     "status": "completed"
    },
    "tags": []
   },
   "outputs": [
    {
     "data": {
      "text/plain": [
       "<matplotlib.collections.PathCollection at 0x7f43e1032d90>"
      ]
     },
     "execution_count": 19,
     "metadata": {},
     "output_type": "execute_result"
    },
    {
     "data": {
      "image/png": "[encoded data removed]",
      "text/plain": [
       "<Figure size 432x288 with 1 Axes>"
      ]
     },
     "metadata": {
      "needs_background": "light"
     },
     "output_type": "display_data"
    }
   ],
   "source": [
    "# without outlier\n",
    "plt.scatter( train_data[\"TotalBsmtSF\"], train_data[\"SalePrice\"])"
   ]
  },
  {
   "cell_type": "code",
   "execution_count": 20,
   "id": "12fc2464",
   "metadata": {
    "execution": {
     "iopub.execute_input": "2022-08-10T15:30:52.788155Z",
     "iopub.status.busy": "2022-08-10T15:30:52.787736Z",
     "iopub.status.idle": "2022-08-10T15:30:52.998811Z",
     "shell.execute_reply": "2022-08-10T15:30:52.997535Z"
    },
    "papermill": {
     "duration": 0.229565,
     "end_time": "2022-08-10T15:30:53.002022",
     "exception": false,
     "start_time": "2022-08-10T15:30:52.772457",
     "status": "completed"
    },
    "tags": []
   },
   "outputs": [
    {
     "data": {
      "text/plain": [
       "<matplotlib.collections.PathCollection at 0x7f43e0fb3cd0>"
      ]
     },
     "execution_count": 20,
     "metadata": {},
     "output_type": "execute_result"
    },
    {
     "data": {
      "image/png": "[encoded data removed]",
      "text/plain": [
       "<Figure size 432x288 with 1 Axes>"
      ]
     },
     "metadata": {
      "needs_background": "light"
     },
     "output_type": "display_data"
    }
   ],
   "source": [
    "# with outlier\n",
    "plt.scatter( houses_data[\"TotalBsmtSF\"], houses_data[\"SalePrice\"])"
   ]
  },
  {
   "cell_type": "markdown",
   "id": "22b4f683",
   "metadata": {
    "papermill": {
     "duration": 0.014152,
     "end_time": "2022-08-10T15:30:53.030500",
     "exception": false,
     "start_time": "2022-08-10T15:30:53.016348",
     "status": "completed"
    },
    "tags": []
   },
   "source": [
    "# Data Normalization"
   ]
  },
  {
   "cell_type": "code",
   "execution_count": 21,
   "id": "c45706dc",
   "metadata": {
    "execution": {
     "iopub.execute_input": "2022-08-10T15:30:53.061351Z",
     "iopub.status.busy": "2022-08-10T15:30:53.060916Z",
     "iopub.status.idle": "2022-08-10T15:30:53.081339Z",
     "shell.execute_reply": "2022-08-10T15:30:53.079929Z"
    },
    "papermill": {
     "duration": 0.039051,
     "end_time": "2022-08-10T15:30:53.083847",
     "exception": false,
     "start_time": "2022-08-10T15:30:53.044796",
     "status": "completed"
    },
    "tags": []
   },
   "outputs": [
    {
     "name": "stdout",
     "output_type": "stream",
     "text": [
      "Scaled Dataset Using StandardScaler\n"
     ]
    },
    {
     "data": {
      "text/html": [
       "<div>\n",
       "<style scoped>\n",
       "    .dataframe tbody tr th:only-of-type {\n",
       "        vertical-align: middle;\n",
       "    }\n",
       "\n",
       "    .dataframe tbody tr th {\n",
       "        vertical-align: top;\n",
       "    }\n",
       "\n",
       "    .dataframe thead th {\n",
       "        text-align: right;\n",
       "    }\n",
       "</style>\n",
       "<table border=\"1\" class=\"dataframe\">\n",
       "  <thead>\n",
       "    <tr style=\"text-align: right;\">\n",
       "      <th></th>\n",
       "      <th>SalePrice</th>\n",
       "      <th>OverallQual</th>\n",
       "      <th>GrLivArea</th>\n",
       "      <th>GarageCars</th>\n",
       "      <th>GarageArea</th>\n",
       "      <th>TotalBsmtSF</th>\n",
       "      <th>1stFlrSF</th>\n",
       "      <th>FullBath</th>\n",
       "      <th>TotRmsAbvGrd</th>\n",
       "      <th>YearBuilt</th>\n",
       "    </tr>\n",
       "  </thead>\n",
       "  <tbody>\n",
       "    <tr>\n",
       "      <th>0</th>\n",
       "      <td>0.676466</td>\n",
       "      <td>0.823375</td>\n",
       "      <td>0.703933</td>\n",
       "      <td>0.427362</td>\n",
       "      <td>0.492825</td>\n",
       "      <td>-0.541891</td>\n",
       "      <td>-0.793533</td>\n",
       "      <td>0.927907</td>\n",
       "      <td>1.356843</td>\n",
       "      <td>1.087012</td>\n",
       "    </tr>\n",
       "    <tr>\n",
       "      <th>1</th>\n",
       "      <td>0.204406</td>\n",
       "      <td>-0.006535</td>\n",
       "      <td>-0.407970</td>\n",
       "      <td>0.427362</td>\n",
       "      <td>0.032679</td>\n",
       "      <td>0.698112</td>\n",
       "      <td>0.483987</td>\n",
       "      <td>0.927907</td>\n",
       "      <td>-0.183095</td>\n",
       "      <td>0.153981</td>\n",
       "    </tr>\n",
       "    <tr>\n",
       "      <th>2</th>\n",
       "      <td>0.938721</td>\n",
       "      <td>0.823375</td>\n",
       "      <td>0.892560</td>\n",
       "      <td>0.427362</td>\n",
       "      <td>0.806562</td>\n",
       "      <td>-0.346422</td>\n",
       "      <td>-0.592151</td>\n",
       "      <td>0.927907</td>\n",
       "      <td>-0.183095</td>\n",
       "      <td>1.017898</td>\n",
       "    </tr>\n",
       "    <tr>\n",
       "      <th>3</th>\n",
       "      <td>-0.521166</td>\n",
       "      <td>0.823375</td>\n",
       "      <td>0.721307</td>\n",
       "      <td>1.874694</td>\n",
       "      <td>0.984345</td>\n",
       "      <td>-0.847310</td>\n",
       "      <td>-0.463140</td>\n",
       "      <td>-0.978957</td>\n",
       "      <td>0.586874</td>\n",
       "      <td>-1.953977</td>\n",
       "    </tr>\n",
       "    <tr>\n",
       "      <th>4</th>\n",
       "      <td>1.402038</td>\n",
       "      <td>1.653284</td>\n",
       "      <td>1.915114</td>\n",
       "      <td>1.874694</td>\n",
       "      <td>1.998759</td>\n",
       "      <td>0.340771</td>\n",
       "      <td>0.115835</td>\n",
       "      <td>0.927907</td>\n",
       "      <td>2.126812</td>\n",
       "      <td>0.983342</td>\n",
       "    </tr>\n",
       "  </tbody>\n",
       "</table>\n",
       "</div>"
      ],
      "text/plain": [
       "   SalePrice  OverallQual  GrLivArea  GarageCars  GarageArea  TotalBsmtSF  \\\n",
       "0   0.676466     0.823375   0.703933    0.427362    0.492825    -0.541891   \n",
       "1   0.204406    -0.006535  -0.407970    0.427362    0.032679     0.698112   \n",
       "2   0.938721     0.823375   0.892560    0.427362    0.806562    -0.346422   \n",
       "3  -0.521166     0.823375   0.721307    1.874694    0.984345    -0.847310   \n",
       "4   1.402038     1.653284   1.915114    1.874694    1.998759     0.340771   \n",
       "\n",
       "   1stFlrSF  FullBath  TotRmsAbvGrd  YearBuilt  \n",
       "0 -0.793533  0.927907      1.356843   1.087012  \n",
       "1  0.483987  0.927907     -0.183095   0.153981  \n",
       "2 -0.592151  0.927907     -0.183095   1.017898  \n",
       "3 -0.463140 -0.978957      0.586874  -1.953977  \n",
       "4  0.115835  0.927907      2.126812   0.983342  "
      ]
     },
     "execution_count": 21,
     "metadata": {},
     "output_type": "execute_result"
    }
   ],
   "source": [
    "std_scaler = StandardScaler()\n",
    " \n",
    "df_scaled = std_scaler.fit_transform(train_data.to_numpy())\n",
    "df_scaled = pd.DataFrame(df_scaled, columns=train_data.columns)\n",
    " \n",
    "print(\"Scaled Dataset Using StandardScaler\")\n",
    "df_scaled.head()"
   ]
  },
  {
   "cell_type": "code",
   "execution_count": 22,
   "id": "645a8004",
   "metadata": {
    "execution": {
     "iopub.execute_input": "2022-08-10T15:30:53.115276Z",
     "iopub.status.busy": "2022-08-10T15:30:53.114830Z",
     "iopub.status.idle": "2022-08-10T15:30:53.319497Z",
     "shell.execute_reply": "2022-08-10T15:30:53.318611Z"
    },
    "papermill": {
     "duration": 0.22319,
     "end_time": "2022-08-10T15:30:53.321801",
     "exception": false,
     "start_time": "2022-08-10T15:30:53.098611",
     "status": "completed"
    },
    "tags": []
   },
   "outputs": [
    {
     "data": {
      "text/plain": [
       "<matplotlib.collections.PathCollection at 0x7f43e0f90b50>"
      ]
     },
     "execution_count": 22,
     "metadata": {},
     "output_type": "execute_result"
    },
    {
     "data": {
      "image/png": "[encoded data removed]",
      "text/plain": [
       "<Figure size 432x288 with 1 Axes>"
      ]
     },
     "metadata": {
      "needs_background": "light"
     },
     "output_type": "display_data"
    }
   ],
   "source": [
    "plt.scatter( df_scaled[\"1stFlrSF\"], df_scaled[\"SalePrice\"])"
   ]
  },
  {
   "cell_type": "markdown",
   "id": "cdbd8009",
   "metadata": {
    "papermill": {
     "duration": 0.014935,
     "end_time": "2022-08-10T15:30:53.352220",
     "exception": false,
     "start_time": "2022-08-10T15:30:53.337285",
     "status": "completed"
    },
    "tags": []
   },
   "source": [
    "## Models for Regression"
   ]
  },
  {
   "cell_type": "markdown",
   "id": "c52eca3d",
   "metadata": {
    "papermill": {
     "duration": 0.015087,
     "end_time": "2022-08-10T15:30:53.382971",
     "exception": false,
     "start_time": "2022-08-10T15:30:53.367884",
     "status": "completed"
    },
    "tags": []
   },
   "source": [
    "### 1)Linear Regression"
   ]
  },
  {
   "cell_type": "code",
   "execution_count": 23,
   "id": "3258c4fe",
   "metadata": {
    "execution": {
     "iopub.execute_input": "2022-08-10T15:30:53.416421Z",
     "iopub.status.busy": "2022-08-10T15:30:53.415531Z",
     "iopub.status.idle": "2022-08-10T15:30:53.445598Z",
     "shell.execute_reply": "2022-08-10T15:30:53.444461Z"
    },
    "papermill": {
     "duration": 0.050283,
     "end_time": "2022-08-10T15:30:53.448641",
     "exception": false,
     "start_time": "2022-08-10T15:30:53.398358",
     "status": "completed"
    },
    "tags": []
   },
   "outputs": [
    {
     "name": "stdout",
     "output_type": "stream",
     "text": [
      "Train shape is (952, 9) Test_shape (318, 9)\n"
     ]
    }
   ],
   "source": [
    "X = df_scaled.drop([\"SalePrice\"],axis=1)\n",
    "y = df_scaled[\"SalePrice\"]\n",
    "X_train,X_test,y_train,y_test = train_test_split(X,y,test_size = 0.25)\n",
    "print(f\"Train shape is {X_train.shape} Test_shape {X_test.shape}\")\n",
    "lr_model = LinearRegression()\n",
    "lr_model.fit(X_train,y_train)\n",
    "y_lr_pred = lr_model.predict(X_test)"
   ]
  },
  {
   "cell_type": "code",
   "execution_count": 24,
   "id": "35d5845a",
   "metadata": {
    "execution": {
     "iopub.execute_input": "2022-08-10T15:30:53.481545Z",
     "iopub.status.busy": "2022-08-10T15:30:53.481151Z",
     "iopub.status.idle": "2022-08-10T15:30:53.489402Z",
     "shell.execute_reply": "2022-08-10T15:30:53.488193Z"
    },
    "papermill": {
     "duration": 0.029289,
     "end_time": "2022-08-10T15:30:53.493915",
     "exception": false,
     "start_time": "2022-08-10T15:30:53.464626",
     "status": "completed"
    },
    "tags": []
   },
   "outputs": [
    {
     "name": "stdout",
     "output_type": "stream",
     "text": [
      "MSE of LinearRegression =  0.20497573798713295\n",
      "MAE of LinearRegression =  0.33739405727753985\n",
      "r2_score of LinearRegression =  0.7990837030911846\n"
     ]
    }
   ],
   "source": [
    "from sklearn.metrics import mean_squared_error\n",
    "from sklearn.metrics import mean_absolute_error\n",
    "from sklearn.metrics import r2_score\n",
    "\n",
    "MSE =  mean_squared_error(y_test , y_lr_pred)\n",
    "print(\"MSE of LinearRegression = \",MSE)\n",
    "MAE = mean_absolute_error(y_test , y_lr_pred)\n",
    "print(\"MAE of LinearRegression = \" , MAE)\n",
    "r2 = r2_score(y_test , y_lr_pred )\n",
    "print(\"r2_score of LinearRegression = \" , r2)"
   ]
  },
  {
   "cell_type": "markdown",
   "id": "abb9eaaa",
   "metadata": {
    "papermill": {
     "duration": 0.014916,
     "end_time": "2022-08-10T15:30:53.525284",
     "exception": false,
     "start_time": "2022-08-10T15:30:53.510368",
     "status": "completed"
    },
    "tags": []
   },
   "source": [
    "### 2)lasso Regresssor"
   ]
  },
  {
   "cell_type": "code",
   "execution_count": 25,
   "id": "6d70ab31",
   "metadata": {
    "execution": {
     "iopub.execute_input": "2022-08-10T15:30:53.557835Z",
     "iopub.status.busy": "2022-08-10T15:30:53.557012Z",
     "iopub.status.idle": "2022-08-10T15:30:53.572373Z",
     "shell.execute_reply": "2022-08-10T15:30:53.571304Z"
    },
    "papermill": {
     "duration": 0.034799,
     "end_time": "2022-08-10T15:30:53.575209",
     "exception": false,
     "start_time": "2022-08-10T15:30:53.540410",
     "status": "completed"
    },
    "tags": []
   },
   "outputs": [
    {
     "name": "stdout",
     "output_type": "stream",
     "text": [
      "MSE of lassoRegression =  0.21009275394488156\n",
      "MAE of lassoRegression =  0.3388432276838743\n",
      "r2_score of lassoRegression =  0.7940680270528884\n"
     ]
    }
   ],
   "source": [
    "from sklearn.linear_model import Ridge,  Lasso\n",
    "lasso_model = Lasso(alpha=0.01)\n",
    "lasso_model.fit(X_train,y_train)\n",
    "lasso_y_pred = lasso_model.predict(X_test)\n",
    "\n",
    "MSE =  mean_squared_error(y_test , lasso_y_pred)\n",
    "print(\"MSE of lassoRegression = \",MSE)\n",
    "MAE = mean_absolute_error(y_test , lasso_y_pred)\n",
    "print(\"MAE of lassoRegression = \" , MAE)\n",
    "r2 = r2_score(y_test , lasso_y_pred )\n",
    "print(\"r2_score of lassoRegression = \" , r2)"
   ]
  },
  {
   "cell_type": "markdown",
   "id": "6aaa5659",
   "metadata": {
    "papermill": {
     "duration": 0.015013,
     "end_time": "2022-08-10T15:30:53.606251",
     "exception": false,
     "start_time": "2022-08-10T15:30:53.591238",
     "status": "completed"
    },
    "tags": []
   },
   "source": [
    "### 3)Ridge Regressor"
   ]
  },
  {
   "cell_type": "code",
   "execution_count": 26,
   "id": "c4255622",
   "metadata": {
    "execution": {
     "iopub.execute_input": "2022-08-10T15:30:53.639298Z",
     "iopub.status.busy": "2022-08-10T15:30:53.638552Z",
     "iopub.status.idle": "2022-08-10T15:30:53.656541Z",
     "shell.execute_reply": "2022-08-10T15:30:53.654863Z"
    },
    "papermill": {
     "duration": 0.038281,
     "end_time": "2022-08-10T15:30:53.659876",
     "exception": false,
     "start_time": "2022-08-10T15:30:53.621595",
     "status": "completed"
    },
    "tags": []
   },
   "outputs": [
    {
     "name": "stdout",
     "output_type": "stream",
     "text": [
      "MSE of RidgeRegression =  0.2049768368785509\n",
      "MAE of RidgeRegression =  0.33739424165051185\n",
      "r2_score of lassoRegression =  0.7990826259627568\n"
     ]
    }
   ],
   "source": [
    "ridge_model = Ridge(alpha=0.01)\n",
    "ridge_model.fit(X_train,y_train)\n",
    "ridge_y_pred = ridge_model.predict(X_test)\n",
    "\n",
    "MSE =  mean_squared_error(y_test , ridge_y_pred)\n",
    "print(\"MSE of RidgeRegression = \",MSE)\n",
    "MAE = mean_absolute_error(y_test , ridge_y_pred)\n",
    "print(\"MAE of RidgeRegression = \" , MAE)\n",
    "r2 = r2_score(y_test , ridge_y_pred )\n",
    "print(\"r2_score of lassoRegression = \" , r2)"
   ]
  },
  {
   "cell_type": "markdown",
   "id": "8d8c060e",
   "metadata": {
    "papermill": {
     "duration": 0.01517,
     "end_time": "2022-08-10T15:30:53.690857",
     "exception": false,
     "start_time": "2022-08-10T15:30:53.675687",
     "status": "completed"
    },
    "tags": []
   },
   "source": [
    "### 3)XGBoost"
   ]
  },
  {
   "cell_type": "code",
   "execution_count": 27,
   "id": "7405d98c",
   "metadata": {
    "execution": {
     "iopub.execute_input": "2022-08-10T15:30:53.724635Z",
     "iopub.status.busy": "2022-08-10T15:30:53.723946Z",
     "iopub.status.idle": "2022-08-10T15:30:54.219279Z",
     "shell.execute_reply": "2022-08-10T15:30:54.217811Z"
    },
    "papermill": {
     "duration": 0.515186,
     "end_time": "2022-08-10T15:30:54.222121",
     "exception": false,
     "start_time": "2022-08-10T15:30:53.706935",
     "status": "completed"
    },
    "tags": []
   },
   "outputs": [
    {
     "name": "stdout",
     "output_type": "stream",
     "text": [
      "[15:30:53] WARNING: ../src/objective/regression_obj.cu:203: reg:linear is now deprecated in favor of reg:squarederror.\n",
      "MSE of XGBRegressor =  0.20799427899780726\n",
      "MAE of XGBRegressor =  0.3279721383875845\n",
      "r2_score of XGBRegressor =  0.7961249427623396\n"
     ]
    }
   ],
   "source": [
    "import xgboost as xg\n",
    " \n",
    "\n",
    "# Instantiation\n",
    "xgb_r = xg.XGBRegressor(objective ='reg:linear',\n",
    "                  n_estimators = 100, seed = 123)\n",
    " \n",
    "# Fitting the model\n",
    "xgb_r.fit(X_train, y_train)\n",
    " \n",
    "# Predict the model\n",
    "xgb_y_pred = xgb_r.predict(X_test)\n",
    " \n",
    "MSE =  mean_squared_error(y_test , xgb_y_pred)\n",
    "print(\"MSE of XGBRegressor = \",MSE)\n",
    "MAE = mean_absolute_error(y_test , xgb_y_pred)\n",
    "print(\"MAE of XGBRegressor = \" , MAE)\n",
    "r2 = r2_score(y_test , xgb_y_pred )\n",
    "print(\"r2_score of XGBRegressor = \" , r2)"
   ]
  }
 ],
 "metadata": {
  "kernelspec": {
   "display_name": "Python 3",
   "language": "python",
   "name": "python3"
  },
  "language_info": {
   "codemirror_mode": {
    "name": "ipython",
    "version": 3
   },
   "file_extension": ".py",
   "mimetype": "text/x-python",
   "name": "python",
   "nbconvert_exporter": "python",
   "pygments_lexer": "ipython3",
   "version": "3.7.12"
  },
  "papermill": {
   "default_parameters": {},
   "duration": 15.374641,
   "end_time": "2022-08-10T15:30:55.062726",
   "environment_variables": {},
   "exception": null,
   "input_path": "__notebook__.ipynb",
   "output_path": "__notebook__.ipynb",
   "parameters": {},
   "start_time": "2022-08-10T15:30:39.688085",
   "version": "2.3.4"
  }
 },
 "nbformat": 4,
 "nbformat_minor": 5
}
