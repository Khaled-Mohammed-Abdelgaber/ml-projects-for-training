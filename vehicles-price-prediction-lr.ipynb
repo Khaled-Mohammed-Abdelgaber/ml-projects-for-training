{
 "cells": [
  {
   "cell_type": "code",
   "execution_count": 1,
   "id": "1e000b0c",
   "metadata": {
    "_cell_guid": "b1076dfc-b9ad-4769-8c92-a6c4dae69d19",
    "_uuid": "8f2839f25d086af736a60e9eeb907d3b93b6e0e5",
    "execution": {
     "iopub.execute_input": "2022-08-06T22:26:39.389885Z",
     "iopub.status.busy": "2022-08-06T22:26:39.389381Z",
     "iopub.status.idle": "2022-08-06T22:26:40.585799Z",
     "shell.execute_reply": "2022-08-06T22:26:40.584909Z"
    },
    "papermill": {
     "duration": 1.210804,
     "end_time": "2022-08-06T22:26:40.588321",
     "exception": false,
     "start_time": "2022-08-06T22:26:39.377517",
     "status": "completed"
    },
    "tags": []
   },
   "outputs": [],
   "source": [
    "import pandas as pd\n",
    "import matplotlib.pyplot as plt\n",
    "%matplotlib inline\n",
    "import seaborn as sns\n",
    "from sklearn.model_selection import train_test_split \n",
    "from sklearn import metrics \n",
    "from sklearn.preprocessing import StandardScaler\n",
    "from sklearn.linear_model import LinearRegression\n",
    "from matplotlib import style"
   ]
  },
  {
   "cell_type": "code",
   "execution_count": 2,
   "id": "833c2b69",
   "metadata": {
    "execution": {
     "iopub.execute_input": "2022-08-06T22:26:40.604666Z",
     "iopub.status.busy": "2022-08-06T22:26:40.604121Z",
     "iopub.status.idle": "2022-08-06T22:26:40.623939Z",
     "shell.execute_reply": "2022-08-06T22:26:40.622979Z"
    },
    "papermill": {
     "duration": 0.029705,
     "end_time": "2022-08-06T22:26:40.625835",
     "exception": false,
     "start_time": "2022-08-06T22:26:40.596130",
     "status": "completed"
    },
    "tags": []
   },
   "outputs": [],
   "source": [
    "car_data = pd.read_csv(\"../input/vehicle-dataset-from-cardekho/car data.csv\")"
   ]
  },
  {
   "cell_type": "code",
   "execution_count": 3,
   "id": "9d6178b0",
   "metadata": {
    "execution": {
     "iopub.execute_input": "2022-08-06T22:26:40.641773Z",
     "iopub.status.busy": "2022-08-06T22:26:40.641207Z",
     "iopub.status.idle": "2022-08-06T22:26:40.659786Z",
     "shell.execute_reply": "2022-08-06T22:26:40.659151Z"
    },
    "papermill": {
     "duration": 0.028492,
     "end_time": "2022-08-06T22:26:40.661373",
     "exception": false,
     "start_time": "2022-08-06T22:26:40.632881",
     "status": "completed"
    },
    "tags": []
   },
   "outputs": [
    {
     "data": {
      "text/html": [
       "<div>\n",
       "<style scoped>\n",
       "    .dataframe tbody tr th:only-of-type {\n",
       "        vertical-align: middle;\n",
       "    }\n",
       "\n",
       "    .dataframe tbody tr th {\n",
       "        vertical-align: top;\n",
       "    }\n",
       "\n",
       "    .dataframe thead th {\n",
       "        text-align: right;\n",
       "    }\n",
       "</style>\n",
       "<table border=\"1\" class=\"dataframe\">\n",
       "  <thead>\n",
       "    <tr style=\"text-align: right;\">\n",
       "      <th></th>\n",
       "      <th>Car_Name</th>\n",
       "      <th>Year</th>\n",
       "      <th>Selling_Price</th>\n",
       "      <th>Present_Price</th>\n",
       "      <th>Kms_Driven</th>\n",
       "      <th>Fuel_Type</th>\n",
       "      <th>Seller_Type</th>\n",
       "      <th>Transmission</th>\n",
       "      <th>Owner</th>\n",
       "    </tr>\n",
       "  </thead>\n",
       "  <tbody>\n",
       "    <tr>\n",
       "      <th>0</th>\n",
       "      <td>ritz</td>\n",
       "      <td>2014</td>\n",
       "      <td>3.35</td>\n",
       "      <td>5.59</td>\n",
       "      <td>27000</td>\n",
       "      <td>Petrol</td>\n",
       "      <td>Dealer</td>\n",
       "      <td>Manual</td>\n",
       "      <td>0</td>\n",
       "    </tr>\n",
       "    <tr>\n",
       "      <th>1</th>\n",
       "      <td>sx4</td>\n",
       "      <td>2013</td>\n",
       "      <td>4.75</td>\n",
       "      <td>9.54</td>\n",
       "      <td>43000</td>\n",
       "      <td>Diesel</td>\n",
       "      <td>Dealer</td>\n",
       "      <td>Manual</td>\n",
       "      <td>0</td>\n",
       "    </tr>\n",
       "    <tr>\n",
       "      <th>2</th>\n",
       "      <td>ciaz</td>\n",
       "      <td>2017</td>\n",
       "      <td>7.25</td>\n",
       "      <td>9.85</td>\n",
       "      <td>6900</td>\n",
       "      <td>Petrol</td>\n",
       "      <td>Dealer</td>\n",
       "      <td>Manual</td>\n",
       "      <td>0</td>\n",
       "    </tr>\n",
       "    <tr>\n",
       "      <th>3</th>\n",
       "      <td>wagon r</td>\n",
       "      <td>2011</td>\n",
       "      <td>2.85</td>\n",
       "      <td>4.15</td>\n",
       "      <td>5200</td>\n",
       "      <td>Petrol</td>\n",
       "      <td>Dealer</td>\n",
       "      <td>Manual</td>\n",
       "      <td>0</td>\n",
       "    </tr>\n",
       "    <tr>\n",
       "      <th>4</th>\n",
       "      <td>swift</td>\n",
       "      <td>2014</td>\n",
       "      <td>4.60</td>\n",
       "      <td>6.87</td>\n",
       "      <td>42450</td>\n",
       "      <td>Diesel</td>\n",
       "      <td>Dealer</td>\n",
       "      <td>Manual</td>\n",
       "      <td>0</td>\n",
       "    </tr>\n",
       "  </tbody>\n",
       "</table>\n",
       "</div>"
      ],
      "text/plain": [
       "  Car_Name  Year  Selling_Price  Present_Price  Kms_Driven Fuel_Type  \\\n",
       "0     ritz  2014           3.35           5.59       27000    Petrol   \n",
       "1      sx4  2013           4.75           9.54       43000    Diesel   \n",
       "2     ciaz  2017           7.25           9.85        6900    Petrol   \n",
       "3  wagon r  2011           2.85           4.15        5200    Petrol   \n",
       "4    swift  2014           4.60           6.87       42450    Diesel   \n",
       "\n",
       "  Seller_Type Transmission  Owner  \n",
       "0      Dealer       Manual      0  \n",
       "1      Dealer       Manual      0  \n",
       "2      Dealer       Manual      0  \n",
       "3      Dealer       Manual      0  \n",
       "4      Dealer       Manual      0  "
      ]
     },
     "execution_count": 3,
     "metadata": {},
     "output_type": "execute_result"
    }
   ],
   "source": [
    "car_data.head(5)"
   ]
  },
  {
   "cell_type": "code",
   "execution_count": 4,
   "id": "06271fd9",
   "metadata": {
    "execution": {
     "iopub.execute_input": "2022-08-06T22:26:40.677133Z",
     "iopub.status.busy": "2022-08-06T22:26:40.676614Z",
     "iopub.status.idle": "2022-08-06T22:26:40.697197Z",
     "shell.execute_reply": "2022-08-06T22:26:40.695959Z"
    },
    "papermill": {
     "duration": 0.030659,
     "end_time": "2022-08-06T22:26:40.699468",
     "exception": false,
     "start_time": "2022-08-06T22:26:40.668809",
     "status": "completed"
    },
    "tags": []
   },
   "outputs": [
    {
     "name": "stdout",
     "output_type": "stream",
     "text": [
      "<class 'pandas.core.frame.DataFrame'>\n",
      "RangeIndex: 301 entries, 0 to 300\n",
      "Data columns (total 9 columns):\n",
      " #   Column         Non-Null Count  Dtype  \n",
      "---  ------         --------------  -----  \n",
      " 0   Car_Name       301 non-null    object \n",
      " 1   Year           301 non-null    int64  \n",
      " 2   Selling_Price  301 non-null    float64\n",
      " 3   Present_Price  301 non-null    float64\n",
      " 4   Kms_Driven     301 non-null    int64  \n",
      " 5   Fuel_Type      301 non-null    object \n",
      " 6   Seller_Type    301 non-null    object \n",
      " 7   Transmission   301 non-null    object \n",
      " 8   Owner          301 non-null    int64  \n",
      "dtypes: float64(2), int64(3), object(4)\n",
      "memory usage: 21.3+ KB\n"
     ]
    }
   ],
   "source": [
    "car_data.info()  # to see more information about datasets"
   ]
  },
  {
   "cell_type": "code",
   "execution_count": 5,
   "id": "d3679cf8",
   "metadata": {
    "execution": {
     "iopub.execute_input": "2022-08-06T22:26:40.715278Z",
     "iopub.status.busy": "2022-08-06T22:26:40.714943Z",
     "iopub.status.idle": "2022-08-06T22:26:40.721914Z",
     "shell.execute_reply": "2022-08-06T22:26:40.721023Z"
    },
    "papermill": {
     "duration": 0.016902,
     "end_time": "2022-08-06T22:26:40.723895",
     "exception": false,
     "start_time": "2022-08-06T22:26:40.706993",
     "status": "completed"
    },
    "tags": []
   },
   "outputs": [
    {
     "data": {
      "text/plain": [
       "Car_Name         0\n",
       "Year             0\n",
       "Selling_Price    0\n",
       "Present_Price    0\n",
       "Kms_Driven       0\n",
       "Fuel_Type        0\n",
       "Seller_Type      0\n",
       "Transmission     0\n",
       "Owner            0\n",
       "dtype: int64"
      ]
     },
     "execution_count": 5,
     "metadata": {},
     "output_type": "execute_result"
    }
   ],
   "source": [
    "#to check total number of null in datasets \n",
    "car_data.isnull().sum()"
   ]
  },
  {
   "cell_type": "code",
   "execution_count": 6,
   "id": "5d943775",
   "metadata": {
    "execution": {
     "iopub.execute_input": "2022-08-06T22:26:40.740299Z",
     "iopub.status.busy": "2022-08-06T22:26:40.739867Z",
     "iopub.status.idle": "2022-08-06T22:26:40.763189Z",
     "shell.execute_reply": "2022-08-06T22:26:40.762391Z"
    },
    "papermill": {
     "duration": 0.033443,
     "end_time": "2022-08-06T22:26:40.765057",
     "exception": false,
     "start_time": "2022-08-06T22:26:40.731614",
     "status": "completed"
    },
    "tags": []
   },
   "outputs": [
    {
     "data": {
      "text/html": [
       "<div>\n",
       "<style scoped>\n",
       "    .dataframe tbody tr th:only-of-type {\n",
       "        vertical-align: middle;\n",
       "    }\n",
       "\n",
       "    .dataframe tbody tr th {\n",
       "        vertical-align: top;\n",
       "    }\n",
       "\n",
       "    .dataframe thead th {\n",
       "        text-align: right;\n",
       "    }\n",
       "</style>\n",
       "<table border=\"1\" class=\"dataframe\">\n",
       "  <thead>\n",
       "    <tr style=\"text-align: right;\">\n",
       "      <th></th>\n",
       "      <th>Year</th>\n",
       "      <th>Selling_Price</th>\n",
       "      <th>Present_Price</th>\n",
       "      <th>Kms_Driven</th>\n",
       "      <th>Owner</th>\n",
       "    </tr>\n",
       "  </thead>\n",
       "  <tbody>\n",
       "    <tr>\n",
       "      <th>count</th>\n",
       "      <td>301.000000</td>\n",
       "      <td>301.000000</td>\n",
       "      <td>301.000000</td>\n",
       "      <td>301.000000</td>\n",
       "      <td>301.000000</td>\n",
       "    </tr>\n",
       "    <tr>\n",
       "      <th>mean</th>\n",
       "      <td>2013.627907</td>\n",
       "      <td>4.661296</td>\n",
       "      <td>7.628472</td>\n",
       "      <td>36947.205980</td>\n",
       "      <td>0.043189</td>\n",
       "    </tr>\n",
       "    <tr>\n",
       "      <th>std</th>\n",
       "      <td>2.891554</td>\n",
       "      <td>5.082812</td>\n",
       "      <td>8.644115</td>\n",
       "      <td>38886.883882</td>\n",
       "      <td>0.247915</td>\n",
       "    </tr>\n",
       "    <tr>\n",
       "      <th>min</th>\n",
       "      <td>2003.000000</td>\n",
       "      <td>0.100000</td>\n",
       "      <td>0.320000</td>\n",
       "      <td>500.000000</td>\n",
       "      <td>0.000000</td>\n",
       "    </tr>\n",
       "    <tr>\n",
       "      <th>25%</th>\n",
       "      <td>2012.000000</td>\n",
       "      <td>0.900000</td>\n",
       "      <td>1.200000</td>\n",
       "      <td>15000.000000</td>\n",
       "      <td>0.000000</td>\n",
       "    </tr>\n",
       "    <tr>\n",
       "      <th>50%</th>\n",
       "      <td>2014.000000</td>\n",
       "      <td>3.600000</td>\n",
       "      <td>6.400000</td>\n",
       "      <td>32000.000000</td>\n",
       "      <td>0.000000</td>\n",
       "    </tr>\n",
       "    <tr>\n",
       "      <th>75%</th>\n",
       "      <td>2016.000000</td>\n",
       "      <td>6.000000</td>\n",
       "      <td>9.900000</td>\n",
       "      <td>48767.000000</td>\n",
       "      <td>0.000000</td>\n",
       "    </tr>\n",
       "    <tr>\n",
       "      <th>max</th>\n",
       "      <td>2018.000000</td>\n",
       "      <td>35.000000</td>\n",
       "      <td>92.600000</td>\n",
       "      <td>500000.000000</td>\n",
       "      <td>3.000000</td>\n",
       "    </tr>\n",
       "  </tbody>\n",
       "</table>\n",
       "</div>"
      ],
      "text/plain": [
       "              Year  Selling_Price  Present_Price     Kms_Driven       Owner\n",
       "count   301.000000     301.000000     301.000000     301.000000  301.000000\n",
       "mean   2013.627907       4.661296       7.628472   36947.205980    0.043189\n",
       "std       2.891554       5.082812       8.644115   38886.883882    0.247915\n",
       "min    2003.000000       0.100000       0.320000     500.000000    0.000000\n",
       "25%    2012.000000       0.900000       1.200000   15000.000000    0.000000\n",
       "50%    2014.000000       3.600000       6.400000   32000.000000    0.000000\n",
       "75%    2016.000000       6.000000       9.900000   48767.000000    0.000000\n",
       "max    2018.000000      35.000000      92.600000  500000.000000    3.000000"
      ]
     },
     "execution_count": 6,
     "metadata": {},
     "output_type": "execute_result"
    }
   ],
   "source": [
    "#to get information about statistics of each column in datasets\n",
    "#but categorical data will not appear\n",
    "car_data.describe()"
   ]
  },
  {
   "cell_type": "code",
   "execution_count": 7,
   "id": "359296a9",
   "metadata": {
    "execution": {
     "iopub.execute_input": "2022-08-06T22:26:40.780697Z",
     "iopub.status.busy": "2022-08-06T22:26:40.780057Z",
     "iopub.status.idle": "2022-08-06T22:26:40.785764Z",
     "shell.execute_reply": "2022-08-06T22:26:40.784900Z"
    },
    "papermill": {
     "duration": 0.015337,
     "end_time": "2022-08-06T22:26:40.787569",
     "exception": false,
     "start_time": "2022-08-06T22:26:40.772232",
     "status": "completed"
    },
    "tags": []
   },
   "outputs": [
    {
     "data": {
      "text/plain": [
       "Index(['Car_Name', 'Year', 'Selling_Price', 'Present_Price', 'Kms_Driven',\n",
       "       'Fuel_Type', 'Seller_Type', 'Transmission', 'Owner'],\n",
       "      dtype='object')"
      ]
     },
     "execution_count": 7,
     "metadata": {},
     "output_type": "execute_result"
    }
   ],
   "source": [
    "#to know what is categorical data we will list all columns\n",
    "car_data.columns"
   ]
  },
  {
   "cell_type": "code",
   "execution_count": 8,
   "id": "68197482",
   "metadata": {
    "execution": {
     "iopub.execute_input": "2022-08-06T22:26:40.807187Z",
     "iopub.status.busy": "2022-08-06T22:26:40.806324Z",
     "iopub.status.idle": "2022-08-06T22:26:40.813489Z",
     "shell.execute_reply": "2022-08-06T22:26:40.812582Z"
    },
    "papermill": {
     "duration": 0.017993,
     "end_time": "2022-08-06T22:26:40.815357",
     "exception": false,
     "start_time": "2022-08-06T22:26:40.797364",
     "status": "completed"
    },
    "tags": []
   },
   "outputs": [
    {
     "data": {
      "text/plain": [
       "Petrol    239\n",
       "Diesel     60\n",
       "CNG         2\n",
       "Name: Fuel_Type, dtype: int64"
      ]
     },
     "execution_count": 8,
     "metadata": {},
     "output_type": "execute_result"
    }
   ],
   "source": [
    "#to count and list all category in fuel_type column\n",
    "car_data[\"Fuel_Type\"].value_counts()"
   ]
  },
  {
   "cell_type": "code",
   "execution_count": 9,
   "id": "d4b1f189",
   "metadata": {
    "execution": {
     "iopub.execute_input": "2022-08-06T22:26:40.831773Z",
     "iopub.status.busy": "2022-08-06T22:26:40.831286Z",
     "iopub.status.idle": "2022-08-06T22:26:40.838643Z",
     "shell.execute_reply": "2022-08-06T22:26:40.837748Z"
    },
    "papermill": {
     "duration": 0.017432,
     "end_time": "2022-08-06T22:26:40.840372",
     "exception": false,
     "start_time": "2022-08-06T22:26:40.822940",
     "status": "completed"
    },
    "tags": []
   },
   "outputs": [
    {
     "data": {
      "text/plain": [
       "city                        26\n",
       "corolla altis               16\n",
       "verna                       14\n",
       "fortuner                    11\n",
       "brio                        10\n",
       "                            ..\n",
       "Honda CB Trigger             1\n",
       "Yamaha FZ S                  1\n",
       "Bajaj Pulsar 135 LS          1\n",
       "Activa 4g                    1\n",
       "Bajaj Avenger Street 220     1\n",
       "Name: Car_Name, Length: 98, dtype: int64"
      ]
     },
     "execution_count": 9,
     "metadata": {},
     "output_type": "execute_result"
    }
   ],
   "source": [
    "car_data[\"Car_Name\"].value_counts()"
   ]
  },
  {
   "cell_type": "code",
   "execution_count": 10,
   "id": "8cae287e",
   "metadata": {
    "execution": {
     "iopub.execute_input": "2022-08-06T22:26:40.858142Z",
     "iopub.status.busy": "2022-08-06T22:26:40.857856Z",
     "iopub.status.idle": "2022-08-06T22:26:40.867211Z",
     "shell.execute_reply": "2022-08-06T22:26:40.866048Z"
    },
    "papermill": {
     "duration": 0.0202,
     "end_time": "2022-08-06T22:26:40.869077",
     "exception": false,
     "start_time": "2022-08-06T22:26:40.848877",
     "status": "completed"
    },
    "tags": []
   },
   "outputs": [
    {
     "name": "stdout",
     "output_type": "stream",
     "text": [
      "city                        26\n",
      "corolla altis               16\n",
      "verna                       14\n",
      "fortuner                    11\n",
      "brio                        10\n",
      "                            ..\n",
      "Honda CB Trigger             1\n",
      "Yamaha FZ S                  1\n",
      "Bajaj Pulsar 135 LS          1\n",
      "Activa 4g                    1\n",
      "Bajaj Avenger Street 220     1\n",
      "Name: Car_Name, Length: 98, dtype: int64\n",
      "======================================\n",
      "Petrol    239\n",
      "Diesel     60\n",
      "CNG         2\n",
      "Name: Fuel_Type, dtype: int64\n",
      "======================================\n",
      "Manual       261\n",
      "Automatic     40\n",
      "Name: Transmission, dtype: int64\n",
      "======================================\n",
      "Dealer        195\n",
      "Individual    106\n",
      "Name: Seller_Type, dtype: int64\n",
      "======================================\n"
     ]
    }
   ],
   "source": [
    "print(car_data[\"Car_Name\"].value_counts())\n",
    "print(\"======================================\")\n",
    "print(car_data[\"Fuel_Type\"].value_counts())\n",
    "print(\"======================================\")\n",
    "print(car_data[\"Transmission\"].value_counts())\n",
    "print(\"======================================\")\n",
    "print(car_data[\"Seller_Type\"].value_counts())\n",
    "print(\"======================================\")"
   ]
  },
  {
   "cell_type": "code",
   "execution_count": 11,
   "id": "164789b4",
   "metadata": {
    "execution": {
     "iopub.execute_input": "2022-08-06T22:26:40.886054Z",
     "iopub.status.busy": "2022-08-06T22:26:40.885588Z",
     "iopub.status.idle": "2022-08-06T22:26:40.890420Z",
     "shell.execute_reply": "2022-08-06T22:26:40.889304Z"
    },
    "papermill": {
     "duration": 0.01544,
     "end_time": "2022-08-06T22:26:40.892397",
     "exception": false,
     "start_time": "2022-08-06T22:26:40.876957",
     "status": "completed"
    },
    "tags": []
   },
   "outputs": [],
   "source": [
    "#to visulaize data using bar plot\n",
    "seller_type = car_data[\"Seller_Type\"]\n",
    "transmission = car_data[\"Transmission\"]\n",
    "fuel_type = car_data[\"Fuel_Type\"]\n",
    "selling_price = car_data[\"Selling_Price\"]"
   ]
  },
  {
   "cell_type": "code",
   "execution_count": 12,
   "id": "0a7b8eeb",
   "metadata": {
    "execution": {
     "iopub.execute_input": "2022-08-06T22:26:40.910750Z",
     "iopub.status.busy": "2022-08-06T22:26:40.910133Z",
     "iopub.status.idle": "2022-08-06T22:26:42.626892Z",
     "shell.execute_reply": "2022-08-06T22:26:42.625966Z"
    },
    "papermill": {
     "duration": 1.728476,
     "end_time": "2022-08-06T22:26:42.629215",
     "exception": false,
     "start_time": "2022-08-06T22:26:40.900739",
     "status": "completed"
    },
    "tags": []
   },
   "outputs": [
    {
     "data": {
      "text/plain": [
       "Text(0, 0.5, 'Selling_price')"
      ]
     },
     "execution_count": 12,
     "metadata": {},
     "output_type": "execute_result"
    },
    {
     "data": {
      "image/png": "[encoded data removed]",
      "text/plain": [
       "<Figure size 1080x360 with 3 Axes>"
      ]
     },
     "metadata": {},
     "output_type": "display_data"
    }
   ],
   "source": [
    "#this plot categorical data vs max of selling price \n",
    "\n",
    "style.use(\"ggplot\")\n",
    "fig = plt.figure(figsize = (15,5))\n",
    "fig.suptitle(\"visulization categorical data columns\")\n",
    "plt.subplot(1,3,1)\n",
    "plt.bar(fuel_type,selling_price,color = \"royalblue\")\n",
    "plt.xlabel(\"Fuel_Type\")\n",
    "plt.ylabel(\"Selling_price\")\n",
    "plt.subplot(1,3,2)\n",
    "plt.bar(transmission,selling_price,color = \"purple\")\n",
    "plt.xlabel(\"transmission\")\n",
    "plt.ylabel(\"Selling_price\")\n",
    "plt.subplot(1,3,3)\n",
    "plt.bar(seller_type,selling_price,color = \"red\")\n",
    "plt.xlabel(\"seller_type\")\n",
    "plt.ylabel(\"Selling_price\")\n"
   ]
  },
  {
   "cell_type": "code",
   "execution_count": 13,
   "id": "0d101214",
   "metadata": {
    "execution": {
     "iopub.execute_input": "2022-08-06T22:26:42.646883Z",
     "iopub.status.busy": "2022-08-06T22:26:42.646416Z",
     "iopub.status.idle": "2022-08-06T22:26:43.080925Z",
     "shell.execute_reply": "2022-08-06T22:26:43.080041Z"
    },
    "papermill": {
     "duration": 0.44555,
     "end_time": "2022-08-06T22:26:43.082859",
     "exception": false,
     "start_time": "2022-08-06T22:26:42.637309",
     "status": "completed"
    },
    "tags": []
   },
   "outputs": [
    {
     "data": {
      "text/plain": [
       "<AxesSubplot:xlabel='Seller_Type', ylabel='Selling_Price'>"
      ]
     },
     "execution_count": 13,
     "metadata": {},
     "output_type": "execute_result"
    },
    {
     "data": {
      "image/png": "[encoded data removed]",
      "text/plain": [
       "<Figure size 1080x360 with 3 Axes>"
      ]
     },
     "metadata": {},
     "output_type": "display_data"
    }
   ],
   "source": [
    "#this plot categorical data vs mean of selling price \n",
    "fig ,axes = plt.subplots(1,3,figsize=(15,5),sharey = True)\n",
    "fig.suptitle(\"visulization categorical data columns\")\n",
    "sns.barplot(x = fuel_type , y = selling_price, ax = axes[0])\n",
    "sns.barplot(x = transmission , y = selling_price, ax = axes[1])\n",
    "sns.barplot(x = seller_type , y = selling_price, ax = axes[2])\n"
   ]
  },
  {
   "cell_type": "code",
   "execution_count": 14,
   "id": "d417c036",
   "metadata": {
    "execution": {
     "iopub.execute_input": "2022-08-06T22:26:43.101281Z",
     "iopub.status.busy": "2022-08-06T22:26:43.100976Z",
     "iopub.status.idle": "2022-08-06T22:26:43.106258Z",
     "shell.execute_reply": "2022-08-06T22:26:43.105520Z"
    },
    "papermill": {
     "duration": 0.016304,
     "end_time": "2022-08-06T22:26:43.107961",
     "exception": false,
     "start_time": "2022-08-06T22:26:43.091657",
     "status": "completed"
    },
    "tags": []
   },
   "outputs": [],
   "source": [
    "petrol_data = car_data.groupby(\"Fuel_Type\").get_group(\"Petrol\")"
   ]
  },
  {
   "cell_type": "code",
   "execution_count": 15,
   "id": "a8850d14",
   "metadata": {
    "execution": {
     "iopub.execute_input": "2022-08-06T22:26:43.126233Z",
     "iopub.status.busy": "2022-08-06T22:26:43.125627Z",
     "iopub.status.idle": "2022-08-06T22:26:43.146000Z",
     "shell.execute_reply": "2022-08-06T22:26:43.145332Z"
    },
    "papermill": {
     "duration": 0.031395,
     "end_time": "2022-08-06T22:26:43.147748",
     "exception": false,
     "start_time": "2022-08-06T22:26:43.116353",
     "status": "completed"
    },
    "tags": []
   },
   "outputs": [
    {
     "data": {
      "text/html": [
       "<div>\n",
       "<style scoped>\n",
       "    .dataframe tbody tr th:only-of-type {\n",
       "        vertical-align: middle;\n",
       "    }\n",
       "\n",
       "    .dataframe tbody tr th {\n",
       "        vertical-align: top;\n",
       "    }\n",
       "\n",
       "    .dataframe thead th {\n",
       "        text-align: right;\n",
       "    }\n",
       "</style>\n",
       "<table border=\"1\" class=\"dataframe\">\n",
       "  <thead>\n",
       "    <tr style=\"text-align: right;\">\n",
       "      <th></th>\n",
       "      <th>Year</th>\n",
       "      <th>Selling_Price</th>\n",
       "      <th>Present_Price</th>\n",
       "      <th>Kms_Driven</th>\n",
       "      <th>Owner</th>\n",
       "    </tr>\n",
       "  </thead>\n",
       "  <tbody>\n",
       "    <tr>\n",
       "      <th>count</th>\n",
       "      <td>239.000000</td>\n",
       "      <td>239.000000</td>\n",
       "      <td>239.000000</td>\n",
       "      <td>239.000000</td>\n",
       "      <td>239.000000</td>\n",
       "    </tr>\n",
       "    <tr>\n",
       "      <th>mean</th>\n",
       "      <td>2013.539749</td>\n",
       "      <td>3.264184</td>\n",
       "      <td>5.583556</td>\n",
       "      <td>33528.937238</td>\n",
       "      <td>0.050209</td>\n",
       "    </tr>\n",
       "    <tr>\n",
       "      <th>std</th>\n",
       "      <td>3.042674</td>\n",
       "      <td>3.135537</td>\n",
       "      <td>5.290685</td>\n",
       "      <td>40308.984886</td>\n",
       "      <td>0.270368</td>\n",
       "    </tr>\n",
       "    <tr>\n",
       "      <th>min</th>\n",
       "      <td>2003.000000</td>\n",
       "      <td>0.100000</td>\n",
       "      <td>0.320000</td>\n",
       "      <td>500.000000</td>\n",
       "      <td>0.000000</td>\n",
       "    </tr>\n",
       "    <tr>\n",
       "      <th>25%</th>\n",
       "      <td>2012.000000</td>\n",
       "      <td>0.600000</td>\n",
       "      <td>0.940000</td>\n",
       "      <td>13850.000000</td>\n",
       "      <td>0.000000</td>\n",
       "    </tr>\n",
       "    <tr>\n",
       "      <th>50%</th>\n",
       "      <td>2014.000000</td>\n",
       "      <td>2.650000</td>\n",
       "      <td>4.600000</td>\n",
       "      <td>25870.000000</td>\n",
       "      <td>0.000000</td>\n",
       "    </tr>\n",
       "    <tr>\n",
       "      <th>75%</th>\n",
       "      <td>2016.000000</td>\n",
       "      <td>5.200000</td>\n",
       "      <td>7.980000</td>\n",
       "      <td>44271.000000</td>\n",
       "      <td>0.000000</td>\n",
       "    </tr>\n",
       "    <tr>\n",
       "      <th>max</th>\n",
       "      <td>2017.000000</td>\n",
       "      <td>19.750000</td>\n",
       "      <td>23.730000</td>\n",
       "      <td>500000.000000</td>\n",
       "      <td>3.000000</td>\n",
       "    </tr>\n",
       "  </tbody>\n",
       "</table>\n",
       "</div>"
      ],
      "text/plain": [
       "              Year  Selling_Price  Present_Price     Kms_Driven       Owner\n",
       "count   239.000000     239.000000     239.000000     239.000000  239.000000\n",
       "mean   2013.539749       3.264184       5.583556   33528.937238    0.050209\n",
       "std       3.042674       3.135537       5.290685   40308.984886    0.270368\n",
       "min    2003.000000       0.100000       0.320000     500.000000    0.000000\n",
       "25%    2012.000000       0.600000       0.940000   13850.000000    0.000000\n",
       "50%    2014.000000       2.650000       4.600000   25870.000000    0.000000\n",
       "75%    2016.000000       5.200000       7.980000   44271.000000    0.000000\n",
       "max    2017.000000      19.750000      23.730000  500000.000000    3.000000"
      ]
     },
     "execution_count": 15,
     "metadata": {},
     "output_type": "execute_result"
    }
   ],
   "source": [
    "petrol_data.describe()"
   ]
  },
  {
   "cell_type": "code",
   "execution_count": 16,
   "id": "7fa45da5",
   "metadata": {
    "execution": {
     "iopub.execute_input": "2022-08-06T22:26:43.166166Z",
     "iopub.status.busy": "2022-08-06T22:26:43.165895Z",
     "iopub.status.idle": "2022-08-06T22:26:43.174822Z",
     "shell.execute_reply": "2022-08-06T22:26:43.174230Z"
    },
    "papermill": {
     "duration": 0.020244,
     "end_time": "2022-08-06T22:26:43.176445",
     "exception": false,
     "start_time": "2022-08-06T22:26:43.156201",
     "status": "completed"
    },
    "tags": []
   },
   "outputs": [],
   "source": [
    "# manual encoding \n",
    "car_data.replace({\"Fuel_Type\":{\"Petrol\":0,\"Diesel\":1,\"CNG\":2}}, inplace = True)\n",
    "#one hot encoding\n",
    "car_data = pd.get_dummies(car_data , columns = [\"Transmission\",\"Seller_Type\"],drop_first = True)"
   ]
  },
  {
   "cell_type": "code",
   "execution_count": 17,
   "id": "4d856626",
   "metadata": {
    "execution": {
     "iopub.execute_input": "2022-08-06T22:26:43.194969Z",
     "iopub.status.busy": "2022-08-06T22:26:43.194695Z",
     "iopub.status.idle": "2022-08-06T22:26:43.206489Z",
     "shell.execute_reply": "2022-08-06T22:26:43.205822Z"
    },
    "papermill": {
     "duration": 0.02294,
     "end_time": "2022-08-06T22:26:43.208288",
     "exception": false,
     "start_time": "2022-08-06T22:26:43.185348",
     "status": "completed"
    },
    "tags": []
   },
   "outputs": [
    {
     "data": {
      "text/html": [
       "<div>\n",
       "<style scoped>\n",
       "    .dataframe tbody tr th:only-of-type {\n",
       "        vertical-align: middle;\n",
       "    }\n",
       "\n",
       "    .dataframe tbody tr th {\n",
       "        vertical-align: top;\n",
       "    }\n",
       "\n",
       "    .dataframe thead th {\n",
       "        text-align: right;\n",
       "    }\n",
       "</style>\n",
       "<table border=\"1\" class=\"dataframe\">\n",
       "  <thead>\n",
       "    <tr style=\"text-align: right;\">\n",
       "      <th></th>\n",
       "      <th>Car_Name</th>\n",
       "      <th>Year</th>\n",
       "      <th>Selling_Price</th>\n",
       "      <th>Present_Price</th>\n",
       "      <th>Kms_Driven</th>\n",
       "      <th>Fuel_Type</th>\n",
       "      <th>Owner</th>\n",
       "      <th>Transmission_Manual</th>\n",
       "      <th>Seller_Type_Individual</th>\n",
       "    </tr>\n",
       "  </thead>\n",
       "  <tbody>\n",
       "    <tr>\n",
       "      <th>0</th>\n",
       "      <td>ritz</td>\n",
       "      <td>2014</td>\n",
       "      <td>3.35</td>\n",
       "      <td>5.59</td>\n",
       "      <td>27000</td>\n",
       "      <td>0</td>\n",
       "      <td>0</td>\n",
       "      <td>1</td>\n",
       "      <td>0</td>\n",
       "    </tr>\n",
       "    <tr>\n",
       "      <th>1</th>\n",
       "      <td>sx4</td>\n",
       "      <td>2013</td>\n",
       "      <td>4.75</td>\n",
       "      <td>9.54</td>\n",
       "      <td>43000</td>\n",
       "      <td>1</td>\n",
       "      <td>0</td>\n",
       "      <td>1</td>\n",
       "      <td>0</td>\n",
       "    </tr>\n",
       "    <tr>\n",
       "      <th>2</th>\n",
       "      <td>ciaz</td>\n",
       "      <td>2017</td>\n",
       "      <td>7.25</td>\n",
       "      <td>9.85</td>\n",
       "      <td>6900</td>\n",
       "      <td>0</td>\n",
       "      <td>0</td>\n",
       "      <td>1</td>\n",
       "      <td>0</td>\n",
       "    </tr>\n",
       "    <tr>\n",
       "      <th>3</th>\n",
       "      <td>wagon r</td>\n",
       "      <td>2011</td>\n",
       "      <td>2.85</td>\n",
       "      <td>4.15</td>\n",
       "      <td>5200</td>\n",
       "      <td>0</td>\n",
       "      <td>0</td>\n",
       "      <td>1</td>\n",
       "      <td>0</td>\n",
       "    </tr>\n",
       "    <tr>\n",
       "      <th>4</th>\n",
       "      <td>swift</td>\n",
       "      <td>2014</td>\n",
       "      <td>4.60</td>\n",
       "      <td>6.87</td>\n",
       "      <td>42450</td>\n",
       "      <td>1</td>\n",
       "      <td>0</td>\n",
       "      <td>1</td>\n",
       "      <td>0</td>\n",
       "    </tr>\n",
       "  </tbody>\n",
       "</table>\n",
       "</div>"
      ],
      "text/plain": [
       "  Car_Name  Year  Selling_Price  Present_Price  Kms_Driven  Fuel_Type  Owner  \\\n",
       "0     ritz  2014           3.35           5.59       27000          0      0   \n",
       "1      sx4  2013           4.75           9.54       43000          1      0   \n",
       "2     ciaz  2017           7.25           9.85        6900          0      0   \n",
       "3  wagon r  2011           2.85           4.15        5200          0      0   \n",
       "4    swift  2014           4.60           6.87       42450          1      0   \n",
       "\n",
       "   Transmission_Manual  Seller_Type_Individual  \n",
       "0                    1                       0  \n",
       "1                    1                       0  \n",
       "2                    1                       0  \n",
       "3                    1                       0  \n",
       "4                    1                       0  "
      ]
     },
     "execution_count": 17,
     "metadata": {},
     "output_type": "execute_result"
    }
   ],
   "source": [
    "car_data.head()"
   ]
  },
  {
   "cell_type": "code",
   "execution_count": 18,
   "id": "fa01a7ca",
   "metadata": {
    "execution": {
     "iopub.execute_input": "2022-08-06T22:26:43.227181Z",
     "iopub.status.busy": "2022-08-06T22:26:43.226653Z",
     "iopub.status.idle": "2022-08-06T22:26:43.724160Z",
     "shell.execute_reply": "2022-08-06T22:26:43.723197Z"
    },
    "papermill": {
     "duration": 0.509004,
     "end_time": "2022-08-06T22:26:43.726131",
     "exception": false,
     "start_time": "2022-08-06T22:26:43.217127",
     "status": "completed"
    },
    "tags": []
   },
   "outputs": [
    {
     "data": {
      "image/png": "[encoded data removed]",
      "text/plain": [
       "<Figure size 720x360 with 2 Axes>"
      ]
     },
     "metadata": {},
     "output_type": "display_data"
    }
   ],
   "source": [
    "#ploting heat map to check which feature are correlated to output and which is not\n",
    "#then will drop weakly correlated features and reduce number of features so that results will be better\n",
    "plt.figure(figsize = (10, 5))\n",
    "\n",
    "sns.heatmap(car_data.corr(),annot = True)\n",
    "plt.title(\"correlation between columns\")\n",
    "plt.show()"
   ]
  },
  {
   "cell_type": "code",
   "execution_count": 19,
   "id": "f4c48b6c",
   "metadata": {
    "execution": {
     "iopub.execute_input": "2022-08-06T22:26:43.746609Z",
     "iopub.status.busy": "2022-08-06T22:26:43.746319Z",
     "iopub.status.idle": "2022-08-06T22:26:43.760108Z",
     "shell.execute_reply": "2022-08-06T22:26:43.759364Z"
    },
    "papermill": {
     "duration": 0.026159,
     "end_time": "2022-08-06T22:26:43.762059",
     "exception": false,
     "start_time": "2022-08-06T22:26:43.735900",
     "status": "completed"
    },
    "tags": []
   },
   "outputs": [
    {
     "data": {
      "text/html": [
       "<div>\n",
       "<style scoped>\n",
       "    .dataframe tbody tr th:only-of-type {\n",
       "        vertical-align: middle;\n",
       "    }\n",
       "\n",
       "    .dataframe tbody tr th {\n",
       "        vertical-align: top;\n",
       "    }\n",
       "\n",
       "    .dataframe thead th {\n",
       "        text-align: right;\n",
       "    }\n",
       "</style>\n",
       "<table border=\"1\" class=\"dataframe\">\n",
       "  <thead>\n",
       "    <tr style=\"text-align: right;\">\n",
       "      <th></th>\n",
       "      <th>Year</th>\n",
       "      <th>Selling_Price</th>\n",
       "      <th>Present_Price</th>\n",
       "      <th>Kms_Driven</th>\n",
       "      <th>Fuel_Type</th>\n",
       "      <th>Owner</th>\n",
       "      <th>Transmission_Manual</th>\n",
       "      <th>Seller_Type_Individual</th>\n",
       "    </tr>\n",
       "  </thead>\n",
       "  <tbody>\n",
       "    <tr>\n",
       "      <th>Year</th>\n",
       "      <td>1.000000</td>\n",
       "      <td>0.236141</td>\n",
       "      <td>-0.047584</td>\n",
       "      <td>-0.524342</td>\n",
       "      <td>0.053643</td>\n",
       "      <td>-0.182104</td>\n",
       "      <td>0.000394</td>\n",
       "      <td>-0.039896</td>\n",
       "    </tr>\n",
       "    <tr>\n",
       "      <th>Selling_Price</th>\n",
       "      <td>0.236141</td>\n",
       "      <td>1.000000</td>\n",
       "      <td>0.878983</td>\n",
       "      <td>0.029187</td>\n",
       "      <td>0.509467</td>\n",
       "      <td>-0.088344</td>\n",
       "      <td>-0.367128</td>\n",
       "      <td>-0.550724</td>\n",
       "    </tr>\n",
       "    <tr>\n",
       "      <th>Present_Price</th>\n",
       "      <td>-0.047584</td>\n",
       "      <td>0.878983</td>\n",
       "      <td>1.000000</td>\n",
       "      <td>0.203647</td>\n",
       "      <td>0.440415</td>\n",
       "      <td>0.008057</td>\n",
       "      <td>-0.348715</td>\n",
       "      <td>-0.512030</td>\n",
       "    </tr>\n",
       "    <tr>\n",
       "      <th>Kms_Driven</th>\n",
       "      <td>-0.524342</td>\n",
       "      <td>0.029187</td>\n",
       "      <td>0.203647</td>\n",
       "      <td>1.000000</td>\n",
       "      <td>0.166801</td>\n",
       "      <td>0.089216</td>\n",
       "      <td>-0.162510</td>\n",
       "      <td>-0.101419</td>\n",
       "    </tr>\n",
       "    <tr>\n",
       "      <th>Fuel_Type</th>\n",
       "      <td>0.053643</td>\n",
       "      <td>0.509467</td>\n",
       "      <td>0.440415</td>\n",
       "      <td>0.166801</td>\n",
       "      <td>1.000000</td>\n",
       "      <td>-0.055705</td>\n",
       "      <td>-0.080466</td>\n",
       "      <td>-0.352415</td>\n",
       "    </tr>\n",
       "    <tr>\n",
       "      <th>Owner</th>\n",
       "      <td>-0.182104</td>\n",
       "      <td>-0.088344</td>\n",
       "      <td>0.008057</td>\n",
       "      <td>0.089216</td>\n",
       "      <td>-0.055705</td>\n",
       "      <td>1.000000</td>\n",
       "      <td>-0.050316</td>\n",
       "      <td>0.124269</td>\n",
       "    </tr>\n",
       "    <tr>\n",
       "      <th>Transmission_Manual</th>\n",
       "      <td>0.000394</td>\n",
       "      <td>-0.367128</td>\n",
       "      <td>-0.348715</td>\n",
       "      <td>-0.162510</td>\n",
       "      <td>-0.080466</td>\n",
       "      <td>-0.050316</td>\n",
       "      <td>1.000000</td>\n",
       "      <td>0.063240</td>\n",
       "    </tr>\n",
       "    <tr>\n",
       "      <th>Seller_Type_Individual</th>\n",
       "      <td>-0.039896</td>\n",
       "      <td>-0.550724</td>\n",
       "      <td>-0.512030</td>\n",
       "      <td>-0.101419</td>\n",
       "      <td>-0.352415</td>\n",
       "      <td>0.124269</td>\n",
       "      <td>0.063240</td>\n",
       "      <td>1.000000</td>\n",
       "    </tr>\n",
       "  </tbody>\n",
       "</table>\n",
       "</div>"
      ],
      "text/plain": [
       "                            Year  Selling_Price  Present_Price  Kms_Driven  \\\n",
       "Year                    1.000000       0.236141      -0.047584   -0.524342   \n",
       "Selling_Price           0.236141       1.000000       0.878983    0.029187   \n",
       "Present_Price          -0.047584       0.878983       1.000000    0.203647   \n",
       "Kms_Driven             -0.524342       0.029187       0.203647    1.000000   \n",
       "Fuel_Type               0.053643       0.509467       0.440415    0.166801   \n",
       "Owner                  -0.182104      -0.088344       0.008057    0.089216   \n",
       "Transmission_Manual     0.000394      -0.367128      -0.348715   -0.162510   \n",
       "Seller_Type_Individual -0.039896      -0.550724      -0.512030   -0.101419   \n",
       "\n",
       "                        Fuel_Type     Owner  Transmission_Manual  \\\n",
       "Year                     0.053643 -0.182104             0.000394   \n",
       "Selling_Price            0.509467 -0.088344            -0.367128   \n",
       "Present_Price            0.440415  0.008057            -0.348715   \n",
       "Kms_Driven               0.166801  0.089216            -0.162510   \n",
       "Fuel_Type                1.000000 -0.055705            -0.080466   \n",
       "Owner                   -0.055705  1.000000            -0.050316   \n",
       "Transmission_Manual     -0.080466 -0.050316             1.000000   \n",
       "Seller_Type_Individual  -0.352415  0.124269             0.063240   \n",
       "\n",
       "                        Seller_Type_Individual  \n",
       "Year                                 -0.039896  \n",
       "Selling_Price                        -0.550724  \n",
       "Present_Price                        -0.512030  \n",
       "Kms_Driven                           -0.101419  \n",
       "Fuel_Type                            -0.352415  \n",
       "Owner                                 0.124269  \n",
       "Transmission_Manual                   0.063240  \n",
       "Seller_Type_Individual                1.000000  "
      ]
     },
     "execution_count": 19,
     "metadata": {},
     "output_type": "execute_result"
    }
   ],
   "source": [
    "car_data.corr()"
   ]
  },
  {
   "cell_type": "code",
   "execution_count": 20,
   "id": "3a7c33f7",
   "metadata": {
    "execution": {
     "iopub.execute_input": "2022-08-06T22:26:43.782737Z",
     "iopub.status.busy": "2022-08-06T22:26:43.782264Z",
     "iopub.status.idle": "2022-08-06T22:26:44.075436Z",
     "shell.execute_reply": "2022-08-06T22:26:44.074248Z"
    },
    "papermill": {
     "duration": 0.305903,
     "end_time": "2022-08-06T22:26:44.077591",
     "exception": false,
     "start_time": "2022-08-06T22:26:43.771688",
     "status": "completed"
    },
    "tags": []
   },
   "outputs": [
    {
     "data": {
      "text/plain": [
       "<AxesSubplot:title={'center':'correlation between selling price and seller type'}, xlabel='Seller_Type_Individual', ylabel='Selling_Price'>"
      ]
     },
     "execution_count": 20,
     "metadata": {},
     "output_type": "execute_result"
    },
    {
     "data": {
      "image/png": "[encoded data removed]",
      "text/plain": [
       "<Figure size 504x360 with 1 Axes>"
      ]
     },
     "metadata": {},
     "output_type": "display_data"
    }
   ],
   "source": [
    "fig = plt.figure(figsize = (7,5))\n",
    "plt.title(\"correlation between selling price and seller type\")\n",
    "sns.regplot(x =  \"Seller_Type_Individual\" , y = \"Selling_Price\" ,data = car_data)"
   ]
  },
  {
   "cell_type": "code",
   "execution_count": 21,
   "id": "16b51f20",
   "metadata": {
    "execution": {
     "iopub.execute_input": "2022-08-06T22:26:44.100753Z",
     "iopub.status.busy": "2022-08-06T22:26:44.100243Z",
     "iopub.status.idle": "2022-08-06T22:26:44.382086Z",
     "shell.execute_reply": "2022-08-06T22:26:44.381203Z"
    },
    "papermill": {
     "duration": 0.295205,
     "end_time": "2022-08-06T22:26:44.384084",
     "exception": false,
     "start_time": "2022-08-06T22:26:44.088879",
     "status": "completed"
    },
    "tags": []
   },
   "outputs": [
    {
     "data": {
      "text/plain": [
       "<AxesSubplot:title={'center':'correlation between selling price and Present_Price'}, xlabel='Present_Price', ylabel='Selling_Price'>"
      ]
     },
     "execution_count": 21,
     "metadata": {},
     "output_type": "execute_result"
    },
    {
     "data": {
      "image/png": "[encoded data removed]",
      "text/plain": [
       "<Figure size 504x360 with 1 Axes>"
      ]
     },
     "metadata": {},
     "output_type": "display_data"
    }
   ],
   "source": [
    "fig = plt.figure(figsize = (7,5))\n",
    "plt.title(\"correlation between selling price and Present_Price\")\n",
    "sns.regplot(x =  \"Present_Price\" , y = \"Selling_Price\" ,data = car_data)"
   ]
  },
  {
   "cell_type": "code",
   "execution_count": 22,
   "id": "1e0788b9",
   "metadata": {
    "execution": {
     "iopub.execute_input": "2022-08-06T22:26:44.407925Z",
     "iopub.status.busy": "2022-08-06T22:26:44.407452Z",
     "iopub.status.idle": "2022-08-06T22:26:44.412443Z",
     "shell.execute_reply": "2022-08-06T22:26:44.411872Z"
    },
    "papermill": {
     "duration": 0.018374,
     "end_time": "2022-08-06T22:26:44.414050",
     "exception": false,
     "start_time": "2022-08-06T22:26:44.395676",
     "status": "completed"
    },
    "tags": []
   },
   "outputs": [],
   "source": [
    "X = car_data.drop([\"Car_Name\",\"Selling_Price\"],axis = 1)\n",
    "y = car_data[\"Selling_Price\"]"
   ]
  },
  {
   "cell_type": "code",
   "execution_count": 23,
   "id": "7be387ad",
   "metadata": {
    "execution": {
     "iopub.execute_input": "2022-08-06T22:26:44.436699Z",
     "iopub.status.busy": "2022-08-06T22:26:44.436126Z",
     "iopub.status.idle": "2022-08-06T22:26:44.440143Z",
     "shell.execute_reply": "2022-08-06T22:26:44.439356Z"
    },
    "papermill": {
     "duration": 0.017544,
     "end_time": "2022-08-06T22:26:44.442384",
     "exception": false,
     "start_time": "2022-08-06T22:26:44.424840",
     "status": "completed"
    },
    "tags": []
   },
   "outputs": [
    {
     "name": "stdout",
     "output_type": "stream",
     "text": [
      "X shape (301, 7)\n",
      "y shape (301,)\n"
     ]
    }
   ],
   "source": [
    "print(\"X shape\",X.shape)\n",
    "print(\"y shape\",y.shape)"
   ]
  },
  {
   "cell_type": "code",
   "execution_count": 24,
   "id": "31c97dc8",
   "metadata": {
    "execution": {
     "iopub.execute_input": "2022-08-06T22:26:44.465208Z",
     "iopub.status.busy": "2022-08-06T22:26:44.464950Z",
     "iopub.status.idle": "2022-08-06T22:26:44.469590Z",
     "shell.execute_reply": "2022-08-06T22:26:44.468671Z"
    },
    "papermill": {
     "duration": 0.017776,
     "end_time": "2022-08-06T22:26:44.471356",
     "exception": false,
     "start_time": "2022-08-06T22:26:44.453580",
     "status": "completed"
    },
    "tags": []
   },
   "outputs": [],
   "source": [
    "X_train,X_test,y_train,y_test = train_test_split(X,y,test_size = 0.3)"
   ]
  },
  {
   "cell_type": "code",
   "execution_count": 25,
   "id": "7645283a",
   "metadata": {
    "execution": {
     "iopub.execute_input": "2022-08-06T22:26:44.493828Z",
     "iopub.status.busy": "2022-08-06T22:26:44.493278Z",
     "iopub.status.idle": "2022-08-06T22:26:44.497530Z",
     "shell.execute_reply": "2022-08-06T22:26:44.496684Z"
    },
    "papermill": {
     "duration": 0.017536,
     "end_time": "2022-08-06T22:26:44.499302",
     "exception": false,
     "start_time": "2022-08-06T22:26:44.481766",
     "status": "completed"
    },
    "tags": []
   },
   "outputs": [
    {
     "name": "stdout",
     "output_type": "stream",
     "text": [
      "X_train shape (210, 7)\n",
      "X_test shape (91, 7)\n"
     ]
    }
   ],
   "source": [
    "print(\"X_train shape\",X_train.shape)\n",
    "print(\"X_test shape\",X_test.shape)"
   ]
  },
  {
   "cell_type": "code",
   "execution_count": 26,
   "id": "de5f948c",
   "metadata": {
    "execution": {
     "iopub.execute_input": "2022-08-06T22:26:44.521752Z",
     "iopub.status.busy": "2022-08-06T22:26:44.521497Z",
     "iopub.status.idle": "2022-08-06T22:26:44.525947Z",
     "shell.execute_reply": "2022-08-06T22:26:44.525358Z"
    },
    "papermill": {
     "duration": 0.017472,
     "end_time": "2022-08-06T22:26:44.527617",
     "exception": false,
     "start_time": "2022-08-06T22:26:44.510145",
     "status": "completed"
    },
    "tags": []
   },
   "outputs": [],
   "source": [
    "#scalling features to make traing faster and more efficient\n",
    "scaler = StandardScaler()"
   ]
  },
  {
   "cell_type": "code",
   "execution_count": 27,
   "id": "39d36ba8",
   "metadata": {
    "execution": {
     "iopub.execute_input": "2022-08-06T22:26:44.550200Z",
     "iopub.status.busy": "2022-08-06T22:26:44.549598Z",
     "iopub.status.idle": "2022-08-06T22:26:44.559989Z",
     "shell.execute_reply": "2022-08-06T22:26:44.559405Z"
    },
    "papermill": {
     "duration": 0.023651,
     "end_time": "2022-08-06T22:26:44.561821",
     "exception": false,
     "start_time": "2022-08-06T22:26:44.538170",
     "status": "completed"
    },
    "tags": []
   },
   "outputs": [],
   "source": [
    "X_train = scaler.fit_transform(X_train)\n",
    "X_test = scaler.fit_transform(X_test)"
   ]
  },
  {
   "cell_type": "code",
   "execution_count": 28,
   "id": "20f2465e",
   "metadata": {
    "execution": {
     "iopub.execute_input": "2022-08-06T22:26:44.585689Z",
     "iopub.status.busy": "2022-08-06T22:26:44.584949Z",
     "iopub.status.idle": "2022-08-06T22:26:44.588383Z",
     "shell.execute_reply": "2022-08-06T22:26:44.587787Z"
    },
    "papermill": {
     "duration": 0.016308,
     "end_time": "2022-08-06T22:26:44.589949",
     "exception": false,
     "start_time": "2022-08-06T22:26:44.573641",
     "status": "completed"
    },
    "tags": []
   },
   "outputs": [],
   "source": [
    "model = LinearRegression()"
   ]
  },
  {
   "cell_type": "code",
   "execution_count": 29,
   "id": "7906ddf7",
   "metadata": {
    "execution": {
     "iopub.execute_input": "2022-08-06T22:26:44.612700Z",
     "iopub.status.busy": "2022-08-06T22:26:44.611964Z",
     "iopub.status.idle": "2022-08-06T22:26:44.633071Z",
     "shell.execute_reply": "2022-08-06T22:26:44.632188Z"
    },
    "papermill": {
     "duration": 0.034347,
     "end_time": "2022-08-06T22:26:44.634908",
     "exception": false,
     "start_time": "2022-08-06T22:26:44.600561",
     "status": "completed"
    },
    "tags": []
   },
   "outputs": [
    {
     "data": {
      "text/plain": [
       "LinearRegression()"
      ]
     },
     "execution_count": 29,
     "metadata": {},
     "output_type": "execute_result"
    }
   ],
   "source": [
    "model.fit(X_train,y_train)"
   ]
  },
  {
   "cell_type": "code",
   "execution_count": 30,
   "id": "86d48969",
   "metadata": {
    "execution": {
     "iopub.execute_input": "2022-08-06T22:26:44.657724Z",
     "iopub.status.busy": "2022-08-06T22:26:44.657194Z",
     "iopub.status.idle": "2022-08-06T22:26:44.661217Z",
     "shell.execute_reply": "2022-08-06T22:26:44.660510Z"
    },
    "papermill": {
     "duration": 0.017414,
     "end_time": "2022-08-06T22:26:44.663021",
     "exception": false,
     "start_time": "2022-08-06T22:26:44.645607",
     "status": "completed"
    },
    "tags": []
   },
   "outputs": [],
   "source": [
    "y_pred  = model.predict(X_test)"
   ]
  },
  {
   "cell_type": "code",
   "execution_count": 31,
   "id": "07aba90a",
   "metadata": {
    "execution": {
     "iopub.execute_input": "2022-08-06T22:26:44.685568Z",
     "iopub.status.busy": "2022-08-06T22:26:44.685034Z",
     "iopub.status.idle": "2022-08-06T22:26:44.690777Z",
     "shell.execute_reply": "2022-08-06T22:26:44.689673Z"
    },
    "papermill": {
     "duration": 0.019446,
     "end_time": "2022-08-06T22:26:44.692999",
     "exception": false,
     "start_time": "2022-08-06T22:26:44.673553",
     "status": "completed"
    },
    "tags": []
   },
   "outputs": [
    {
     "name": "stdout",
     "output_type": "stream",
     "text": [
      "MAE :  1.7128198959123142\n"
     ]
    }
   ],
   "source": [
    "from sklearn.metrics import mean_absolute_error , mean_squared_error , r2_score\n",
    "\n",
    "print(\"MAE : \", mean_absolute_error(  y_pred,y_test))"
   ]
  },
  {
   "cell_type": "code",
   "execution_count": 32,
   "id": "1cda7336",
   "metadata": {
    "execution": {
     "iopub.execute_input": "2022-08-06T22:26:44.716065Z",
     "iopub.status.busy": "2022-08-06T22:26:44.715594Z",
     "iopub.status.idle": "2022-08-06T22:26:44.720422Z",
     "shell.execute_reply": "2022-08-06T22:26:44.719629Z"
    },
    "papermill": {
     "duration": 0.017841,
     "end_time": "2022-08-06T22:26:44.722092",
     "exception": false,
     "start_time": "2022-08-06T22:26:44.704251",
     "status": "completed"
    },
    "tags": []
   },
   "outputs": [
    {
     "name": "stdout",
     "output_type": "stream",
     "text": [
      "MSE :  4.417879221232763\n"
     ]
    }
   ],
   "source": [
    "print(\"MSE : \", mean_squared_error(y_test , y_pred))"
   ]
  },
  {
   "cell_type": "code",
   "execution_count": 33,
   "id": "8093f619",
   "metadata": {
    "execution": {
     "iopub.execute_input": "2022-08-06T22:26:44.745074Z",
     "iopub.status.busy": "2022-08-06T22:26:44.744307Z",
     "iopub.status.idle": "2022-08-06T22:26:44.749162Z",
     "shell.execute_reply": "2022-08-06T22:26:44.748490Z"
    },
    "papermill": {
     "duration": 0.017958,
     "end_time": "2022-08-06T22:26:44.750792",
     "exception": false,
     "start_time": "2022-08-06T22:26:44.732834",
     "status": "completed"
    },
    "tags": []
   },
   "outputs": [
    {
     "name": "stdout",
     "output_type": "stream",
     "text": [
      "r2_score :  0.8354521251874761\n"
     ]
    }
   ],
   "source": [
    "\"\"\"R2 indicates the proportion of data points which lie within the line created by \n",
    "the regression equation.A higher value of R2 is desirable as it indicates better results\n",
    "max value is 1 and it may negative[bad cases]\"\"\"\n",
    "\n",
    "print(\"r2_score : \", r2_score(y_test , y_pred))"
   ]
  },
  {
   "cell_type": "code",
   "execution_count": 34,
   "id": "11158067",
   "metadata": {
    "execution": {
     "iopub.execute_input": "2022-08-06T22:26:44.773923Z",
     "iopub.status.busy": "2022-08-06T22:26:44.773443Z",
     "iopub.status.idle": "2022-08-06T22:26:45.038988Z",
     "shell.execute_reply": "2022-08-06T22:26:45.038325Z"
    },
    "papermill": {
     "duration": 0.278886,
     "end_time": "2022-08-06T22:26:45.040803",
     "exception": false,
     "start_time": "2022-08-06T22:26:44.761917",
     "status": "completed"
    },
    "tags": []
   },
   "outputs": [
    {
     "data": {
      "text/plain": [
       "<AxesSubplot:title={'center':'correlation between actual and predicted  values'}, ylabel='Selling_Price'>"
      ]
     },
     "execution_count": 34,
     "metadata": {},
     "output_type": "execute_result"
    },
    {
     "data": {
      "image/png": "[encoded data removed]",
      "text/plain": [
       "<Figure size 504x360 with 1 Axes>"
      ]
     },
     "metadata": {},
     "output_type": "display_data"
    }
   ],
   "source": [
    "fig = plt.figure(figsize = (7,5))\n",
    "plt.title(\"correlation between actual and predicted  values\")\n",
    "sns.regplot(x = y_pred  , y = y_test  )"
   ]
  },
  {
   "cell_type": "code",
   "execution_count": null,
   "id": "f7563740",
   "metadata": {
    "papermill": {
     "duration": 0.01104,
     "end_time": "2022-08-06T22:26:45.063408",
     "exception": false,
     "start_time": "2022-08-06T22:26:45.052368",
     "status": "completed"
    },
    "tags": []
   },
   "outputs": [],
   "source": []
  }
 ],
 "metadata": {
  "kernelspec": {
   "display_name": "Python 3",
   "language": "python",
   "name": "python3"
  },
  "language_info": {
   "codemirror_mode": {
    "name": "ipython",
    "version": 3
   },
   "file_extension": ".py",
   "mimetype": "text/x-python",
   "name": "python",
   "nbconvert_exporter": "python",
   "pygments_lexer": "ipython3",
   "version": "3.7.12"
  },
  "papermill": {
   "default_parameters": {},
   "duration": 14.083914,
   "end_time": "2022-08-06T22:26:45.693486",
   "environment_variables": {},
   "exception": null,
   "input_path": "__notebook__.ipynb",
   "output_path": "__notebook__.ipynb",
   "parameters": {},
   "start_time": "2022-08-06T22:26:31.609572",
   "version": "2.3.4"
  }
 },
 "nbformat": 4,
 "nbformat_minor": 5
}
